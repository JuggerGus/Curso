{
  "cells": [
    {
      "cell_type": "markdown",
      "metadata": {
        "id": "ql1UwsZeHBlv"
      },
      "source": [
        "# **Sección 1: Origen de los datos** 🌐"
      ]
    },
    {
      "cell_type": "markdown",
      "metadata": {
        "id": "iMGaRwQe8mI0"
      },
      "source": [
        "## **1.1- Introducción**\n",
        "\n",
        "En un proyecto determinado, la aplicación de estrategias de cómputo depende de la **información disponible del sistema (DATOS)** y de los **objetivos** específicos del estudio.\n",
        "\n",
        "El laboratorio humedo es el primer acercamiento que tenemos a la generación de datos, mejor conocidos como: **Datos Crudos**. \n",
        "\n",
        "\n",
        "---\n",
        "Datos Crudos: Registros originales tal como se recopilaron en el laboratorio sin ningún procesamiento, filtrado o interpretación.\n",
        "\n",
        "---\n",
        "\n",
        "Como QFB, trabajan con muestras complejas como:\n",
        "\n",
        "> *   🩸 Sangre/plasma (biomarcadores)\n",
        "> *   🔬 Tejidos (biopsias)\n",
        "> *   🧫 Cultivos celulares (hepatocitos, líneas cancerosas)\n",
        "> *   🦠 Aislamientos microbianos (resistencia antimicrobiana)\n",
        "\n",
        "Como QFB, trabajan con muestras complejas (Datos Crudos):\n",
        "\n",
        "Después de generar los datos, estos pasan a la computadora para proceder a su manejo y adaptarlas acorde a las herramientas de uso.\n",
        "\n",
        "Las herramientas a utilizar es seleccionada basada a la pregunta del proyecto **¿Que me interesa conocer de mis datos?** \n",
        "\n",
        "\n",
        "# Beneficios:\n",
        "\n",
        "\n",
        "1.   Dejar atrás los análisis unigénicos (qPCR) para adoptar enfoques multiómicos.\n",
        "\n",
        "2.   Vincular sus muestras a mecanismos moleculares con impacto en terapias y diagnósticos\n"
      ]
    },
    {
      "cell_type": "markdown",
      "metadata": {},
      "source": [
        "## **1.2- Herramientas Computacionales**\n",
        "\n",
        "Son programas, plataformas o algoritmos diseñados para analizar, visualizar o interpretar datos biológicos complejos (genéticos, químicos, farmacológicos) de manera automática, rápida y precisa. \n",
        "\n",
        "**FUNCION:** simplificar tareas que manualmente serían imposibles o muy lentas.\n",
        "\n",
        "**CONSEJOS:**\n",
        "> Empieza con herramientas web (CIBERSORTx, STRING) antes de usar software local.\n",
        "\n",
        "> Usa datos de ejemplo: Muchas herramientas ofrecen datasets de prueba para practicar.\n",
        "\n",
        "> Busca tutoriales en YouTube: Hay guías visuales para cada herramienta.\n",
        "\n",
        "\n",
        "**EJEMPLOS:**\n",
        "\n",
        "> STRING (Web)\n",
        "Función: Predecir interacciones entre proteínas \n",
        "\n",
        "> CIBERSORTx (Web)\n",
        "Función: Estimar proporciones de tipos celulares en una muestra\n",
        "\n",
        "> KEGG mapper (Web)\n",
        "Función: Mapear genes o fármacos en vías bioquímicas conocidas\n",
        "\n",
        "> hdWGCNA  (Software)\n",
        "Función:  Encontrar grupos de genes que actúan juntos (módulos) en procesos biológicos."
      ]
    },
    {
      "cell_type": "markdown",
      "metadata": {},
      "source": [
        "## 1.2.1- STRING\n",
        "\n",
        "STRING (Search Tool for Retrieval of Interacting Genes/Proteins) es una plataforma web gratuita que permite estudiar interacciones funcionales entre proteínas, genes o compuestos químicos. Combina datos experimentales, predicciones computacionales y minería de textos para construir redes biológicas.\n",
        "\n",
        "**Enlace: https://string-db.org**\n",
        "\n",
        "### Análisis avanzado (sin programar)\n",
        "> Enriquecimiento funcional:\n",
        "\n",
        "STRING automáticamente detecta qué vías o procesos biológicos están sobrerrepresentados en tu red (ej.: \"apoptosis\", \"metabolismo de lípidos\").\n",
        "\n",
        "> Comparación entre especies\n",
        "> Integración con fármacos:\n",
        "Usa el plugin STITCH para incluir compuestos químicos en la red"
      ]
    },
    {
      "cell_type": "markdown",
      "metadata": {
        "id": "LWcVB8GoHApU"
      },
      "source": [
        "# **Sección 2: BioComputo** 🧪💻\n",
        "\n"
      ]
    },
    {
      "cell_type": "markdown",
      "metadata": {},
      "source": [
        "## **2.1- Google Colaboratory**"
      ]
    },
    {
      "cell_type": "markdown",
      "metadata": {},
      "source": [
        "#### Iniciación de Google Drive"
      ]
    },
    {
      "cell_type": "code",
      "execution_count": null,
      "metadata": {
        "colab": {
          "base_uri": "https://localhost:8080/"
        },
        "id": "NqNM4o4-Hugw",
        "outputId": "01b0dcfe-9924-4256-aacf-3f01d34e695f"
      },
      "outputs": [],
      "source": [
        "from google.colab import drive #Montar Google Drive\n",
        "drive.mount('/content/drive')"
      ]
    },
    {
      "cell_type": "markdown",
      "metadata": {},
      "source": [
        "## **2.2- Preprocesamiento de Datos**"
      ]
    },
    {
      "cell_type": "markdown",
      "metadata": {},
      "source": [
        "## 2.2.1- scRNA-seq"
      ]
    },
    {
      "cell_type": "code",
      "execution_count": null,
      "metadata": {},
      "outputs": [],
      "source": [
        "# Librerias\n",
        "\n",
        "import pandas as pd\n",
        "import numpy as np\n",
        "import umap\n",
        "import seaborn as sns\n",
        "import matplotlib.pyplot as plt\n",
        "from sklearn.preprocessing import StandardScaler"
      ]
    },
    {
      "cell_type": "code",
      "execution_count": null,
      "metadata": {},
      "outputs": [],
      "source": [
        "!pip install scanpy"
      ]
    },
    {
      "cell_type": "code",
      "execution_count": null,
      "metadata": {},
      "outputs": [],
      "source": [
        "import scanpy as sc"
      ]
    },
    {
      "cell_type": "code",
      "execution_count": null,
      "metadata": {},
      "outputs": [],
      "source": [
        "import anndata"
      ]
    },
    {
      "cell_type": "code",
      "execution_count": null,
      "metadata": {},
      "outputs": [],
      "source": [
        "# Cargar datos\n",
        "singlecell=pd.read_csv(\"C:/Users/Rocio/Desktop/singlecell_segmented.csv\", index_col=0, header=0) #Single Cell con 3,000 muestras celulares de 15 tipos celulares\n",
        "singlecell=singlecell.transpose()\n",
        "singlecell.head()"
      ]
    },
    {
      "cell_type": "code",
      "execution_count": null,
      "metadata": {},
      "outputs": [],
      "source": [
        "# Separar la columna 'cell_types' de la matriz de expresión\n",
        "cell_types = singlecell['cell_types']  # Guardamos los tipos celulares\n",
        "singlecell = singlecell.drop(columns=['cell_types'])  # Quitamos la columna de la matriz "
      ]
    },
    {
      "cell_type": "code",
      "execution_count": null,
      "metadata": {},
      "outputs": [],
      "source": [
        "# Separar la fila \"feature_name\" de la matriz de expresión\n",
        "feature_name = singlecell.loc['feature_name'].values\n",
        "singlecell = singlecell.drop(index=\"feature_name\")"
      ]
    },
    {
      "cell_type": "code",
      "execution_count": null,
      "metadata": {},
      "outputs": [],
      "source": [
        "# Convertir valores de expresión a float\n",
        "singlecell = singlecell.astype(float)"
      ]
    },
    {
      "cell_type": "markdown",
      "metadata": {},
      "source": [
        "### 2.2.2- Visualización de Datos    "
      ]
    },
    {
      "cell_type": "markdown",
      "metadata": {},
      "source": [
        "### Uso de Scanpy para el preprocesamiento \n",
        "\n",
        "En el análisis de transcriptómica de células individuales (single-cell RNA sequencing, scRNA-seq), trabajamos con grandes volúmenes de datos altamente dimensionales. Para poder extraer información útil, es necesario aplicar técnicas de preprocesamiento, reducción de dimensionalidad, identificación de grupos celulares y visualización.\n",
        "\n",
        "Scanpy es una de las herramientas más eficientes y ampliamente utilizadas en Python para analizar datos de scRNA-seq. \n",
        "\n",
        "Pipeline:\n",
        "\n",
        " 1️⃣ Leer y organizar los datos de expresión \n",
        "\n",
        " 2️⃣ Filtrar células y genes con baja expresión\n",
        "\n",
        " 3️⃣ Normalizar y aplicar log-transform\n",
        "\n",
        " 4️⃣ Identificar genes más variables \n",
        "\n",
        " 5️⃣ Escalar datos de expresión \n",
        "\n",
        " 6️⃣ Construir representaciones de los datos con UMAP para visualizar los grupos celulares.\n",
        "\n",
        "\n",
        "En caso que posteriormente queramos usar R, Scanpy crea archivo compatibles con Seurat (R), para ellos construye un objeto AnnData que sigue el siguiente formato:"
      ]
    },
    {
      "cell_type": "markdown",
      "metadata": {},
      "source": [
        "<fig>\n",
        "<img    src=\"Edits/anndata_schema.svg\"\n",
        "        width=512\n",
        "        height=512>\n",
        "<figcaption>Fig. 2: Esquema de un objeto AnnData.\n",
        "</figure>"
      ]
    },
    {
      "cell_type": "code",
      "execution_count": null,
      "metadata": {},
      "outputs": [],
      "source": [
        "# Construir el objeto AnnData\n",
        "adata = anndata.AnnData(X=singlecell.values)\n",
        "\n",
        "# Asignar nombres correctos a filas y columnas\n",
        "adata.obs_names = singlecell.index  # Células\n",
        "adata.var_names = singlecell.columns  # Genes\n",
        "adata.obs[\"cell_types\"] = cell_types  # Agregar tipos celulares como metadatos\n",
        "adata.var[\"feature_name\"] = feature_name\n",
        "\n",
        "# Verificar estructura\n",
        "print(adata)"
      ]
    },
    {
      "cell_type": "code",
      "execution_count": null,
      "metadata": {},
      "outputs": [],
      "source": [
        "# Filtrar células y genes con baja expresión\n",
        "sc.pp.filter_cells(adata, min_genes=200)  # Células con al menos 200 genes detectados\n",
        "sc.pp.filter_genes(adata, min_cells=3)  # Genes expresados en al menos 3 células\n",
        "adata\n"
      ]
    },
    {
      "cell_type": "code",
      "execution_count": null,
      "metadata": {},
      "outputs": [],
      "source": [
        "# Normalizar la expresión génica (CPM-like normalization)\n",
        "sc.pp.normalize_total(adata, target_sum=1e4)\n",
        "\n",
        "# Aplicar log-transformación\n",
        "sc.pp.log1p(adata)"
      ]
    },
    {
      "cell_type": "markdown",
      "metadata": {},
      "source": [
        "min_mean=0.0125 → Excluye genes con una expresión promedio muy baja, porque suelen ser ruido.\n",
        "\n",
        "max_mean=3 → Excluye genes con expresión excesivamente alta, que pueden ser housekeeping genes o artefactos.\n",
        "\n",
        "min_disp=0.5 → Selecciona genes con alta dispersión (variabilidad relativa), lo que significa que su expresión varía entre células y no es uniforme."
      ]
    },
    {
      "cell_type": "code",
      "execution_count": null,
      "metadata": {},
      "outputs": [],
      "source": [
        "# Identificar los genes más variables\n",
        "sc.pp.highly_variable_genes(adata, min_mean=0.0125, max_mean=3, min_disp=0.5)\n",
        "adata = adata[:, adata.var[\"highly_variable\"]]  # Filtrar solo genes variables\n",
        "adata"
      ]
    },
    {
      "cell_type": "code",
      "execution_count": null,
      "metadata": {},
      "outputs": [],
      "source": [
        "sc.pp.scale(adata, max_value=10)"
      ]
    },
    {
      "cell_type": "code",
      "execution_count": null,
      "metadata": {},
      "outputs": [],
      "source": [
        "sc.pp.neighbors(adata, n_neighbors=30, metric=\"euclidean\")\n",
        "sc.tl.umap(adata, min_dist=0.6)\n",
        "sc.pl.umap(adata, color=\"cell_types\")"
      ]
    },
    {
      "cell_type": "code",
      "execution_count": null,
      "metadata": {},
      "outputs": [],
      "source": [
        "# Extraer la matriz de expresión desde adata.X y convertirla en DataFrame\n",
        "df_expression = pd.DataFrame(\n",
        "    adata.X.T,  # Transponemos para que los genes sean filas y las células columnas\n",
        "    index=adata.var[\"feature_name\"],  # Nombres de los genes como filas\n",
        "    columns=adata.obs_names  # Nombres de las células como columnas\n",
        ")\n",
        "df_expression.head()"
      ]
    },
    {
      "cell_type": "code",
      "execution_count": null,
      "metadata": {},
      "outputs": [],
      "source": [
        "df_expression.to_csv(\"C:/Users/Rocio/Desktop/matriz_expresion_preprocesada.csv\") # Cambiar path "
      ]
    },
    {
      "cell_type": "code",
      "execution_count": null,
      "metadata": {},
      "outputs": [],
      "source": [
        "# Guardar como un .h5ad para después convertirlo en .rds en R (opcional)\n",
        "adata.write(\"C:/Users/Rocio/Desktop/matriz_expresion_preprocesada.h5ad\")"
      ]
    },
    {
      "cell_type": "markdown",
      "metadata": {},
      "source": [
        "## 2.3 RNA-seq"
      ]
    },
    {
      "cell_type": "markdown",
      "metadata": {},
      "source": [
        "### Librerias"
      ]
    },
    {
      "cell_type": "code",
      "execution_count": null,
      "metadata": {
        "id": "luvriTOMbfr6"
      },
      "outputs": [],
      "source": [
        "import pandas as pd # manipulación de datos\n",
        "import matplotlib.pyplot as plt # Graficación\n",
        "import time # Medición de tiempo\n",
        "import numpy as np # Matematicas"
      ]
    },
    {
      "cell_type": "markdown",
      "metadata": {},
      "source": [
        "### Lectura de datos"
      ]
    },
    {
      "cell_type": "code",
      "execution_count": null,
      "metadata": {
        "colab": {
          "base_uri": "https://localhost:8080/",
          "height": 497
        },
        "id": "HDNBHOFMpuEM",
        "outputId": "6f4480fd-e931-427b-aa36-36fda85af44d"
      },
      "outputs": [],
      "source": [
        "singlecell=pd.read_csv(\"/content/drive/MyDrive/Curso de Marzo/SingleCell.csv\", header=None) #Single Cell con 3,500 muestras celulares de 15 tipos celulares\n",
        "singlecell=singlecell.transpose()\n",
        "\n",
        "singlecell # Mostrar los datos en forma de tabla"
      ]
    },
    {
      "cell_type": "markdown",
      "metadata": {
        "id": "5EqVXG_Wbb24"
      },
      "source": [
        "### Procesamiento de datos RNA-seq"
      ]
    },
    {
      "cell_type": "code",
      "execution_count": null,
      "metadata": {
        "colab": {
          "base_uri": "https://localhost:8080/",
          "height": 517
        },
        "id": "gJAKkGb6bkOz",
        "outputId": "1b470a7a-c07d-40e0-b7b2-fc0456eea898"
      },
      "outputs": [],
      "source": [
        "# Carga de datos\n",
        "rnaseq=pd.read_csv(\"/content/drive/MyDrive/Curso de Marzo/RNA-seq.csv\") # Dirección en la que se encuentra el archivo RNA-seq\n",
        "print(\"Base de datos \\n\")\n",
        "\n",
        "rnaseq = rnaseq.rename({'gene_symbol': 'Brain Samples', 'b': 'Y'}, axis=1) # Cambiamos de nombre una columna\n",
        "rnaseq.head() # Mostrar los datos en forma de tabla solo los primeros 5 elementos\n"
      ]
    },
    {
      "cell_type": "markdown",
      "metadata": {},
      "source": [
        "### Filtrado de datos"
      ]
    },
    {
      "cell_type": "code",
      "execution_count": null,
      "metadata": {
        "colab": {
          "base_uri": "https://localhost:8080/"
        },
        "id": "5YP3t7FobucL",
        "outputId": "706491e2-178d-4e79-d10f-ec1201b2ebd8"
      },
      "outputs": [],
      "source": [
        "ages = [\"11 yrs\", \"40 yrs\"] #Edades en las que quieres inferir la proporción celular\n",
        "\n",
        "\n",
        "# Filtara el DF\n",
        "filtered_df = rnaseq[rnaseq[\"Age\"].isin(ages)]\n",
        "\n",
        "# Eliminar columna de edad\n",
        "filtered_df=filtered_df.drop(\"Age\", axis=1)\n",
        "\n",
        "# Mostrar los resultados\n",
        "filtered_df=filtered_df.set_index([\"Brain Samples\"])\n",
        "print(\"Base de datos con Indice\\n\")\n",
        "\n",
        "filtered_df.head()\n",
        "\n",
        "# Define the Google Drive path\n",
        "save_path = \"/content/drive/MyDrive/Curso de Marzo/\"\n",
        "\n",
        "#Exportar los datos a un archivo tipo csv\n",
        "filtered_df.to_csv(save_path+\"filtered_df.csv\")"
      ]
    },
    {
      "cell_type": "markdown",
      "metadata": {},
      "source": [
        "### Guardar datos en formato txt"
      ]
    },
    {
      "cell_type": "code",
      "execution_count": null,
      "metadata": {
        "colab": {
          "base_uri": "https://localhost:8080/"
        },
        "id": "uC92ngHocM57",
        "outputId": "86b445d1-d786-4efa-b4ef-7349c179c088"
      },
      "outputs": [],
      "source": [
        "# Carga de datos previamente segmentados\n",
        "rnaseq=pd.read_csv(save_path+\"filtered_df.csv\", header=None)\n",
        "print(\"Base de datos \\n\")\n",
        "rnaseq=rnaseq.transpose()\n",
        "# Save the file\n",
        "np.savetxt(save_path+\"Brain_Bulk.txt\", rnaseq, fmt='%s', delimiter='\\t')"
      ]
    },
    {
      "cell_type": "markdown",
      "metadata": {},
      "source": [
        "### Vizialización de datos segmentados finales"
      ]
    },
    {
      "cell_type": "code",
      "execution_count": null,
      "metadata": {
        "colab": {
          "base_uri": "https://localhost:8080/",
          "height": 650
        },
        "id": "_Nz10GQpnwBW",
        "outputId": "14613dc8-468e-46ba-e8a2-93dda4a52b61"
      },
      "outputs": [
        {
          "name": "stdout",
          "output_type": "stream",
          "text": [
            "Hola\n"
          ]
        }
      ],
      "source": [
        "rnaseq=pd.read_csv(save_path+\"Brain_Bulk.txt\", header=None, delimiter=\"\\t\", index_col=0)\n",
        "rnaseq"
      ]
    },
    {
      "cell_type": "markdown",
      "metadata": {},
      "source": [
        "# 3- CIBERSORTx 📊"
      ]
    },
    {
      "cell_type": "markdown",
      "metadata": {},
      "source": [
        "<fig>\n",
        "<img    src=\"Edits/Methodology.png\"\n",
        "        width=400\n",
        "        height=400>\n",
        "<figcaption>Fig. 1: Graphical abstract de la metodología.\n",
        "</figure>"
      ]
    },
    {
      "cell_type": "markdown",
      "metadata": {
        "id": "qAopxgDgczze"
      },
      "source": [
        "### Link a CIBERSORTx: https://cibersortx.stanford.edu/\n",
        "\n",
        "Pasos a seguir\n",
        "\n",
        "\n",
        "1.   Crear cuenta\n",
        "2.   Iniciar sesíon\n"
      ]
    },
    {
      "cell_type": "markdown",
      "metadata": {},
      "source": [
        "### 3.1- Firmas genéticas"
      ]
    },
    {
      "cell_type": "markdown",
      "metadata": {},
      "source": [
        "<fig>\n",
        "<img    src=\"Edits/Firmas.png\"\n",
        "        width=800\n",
        "        height=600>\n",
        "<figcaption>Fig. 1: Interfaz de CIBERSORTx.\n",
        "</figure>"
      ]
    },
    {
      "cell_type": "markdown",
      "metadata": {},
      "source": [
        "## 3.2- Inferencia Celular"
      ]
    },
    {
      "cell_type": "markdown",
      "metadata": {},
      "source": [
        "<fig>\n",
        "<img    src=\"Edits/Proporcion.png\"\n",
        "        width=800\n",
        "        height=600>\n",
        "<figcaption>Fig. 1: Interfaz de CIBERSORTx.\n",
        "</figure>"
      ]
    },
    {
      "cell_type": "markdown",
      "metadata": {},
      "source": [
        "# 4- hdWGCNA"
      ]
    },
    {
      "cell_type": "markdown",
      "metadata": {},
      "source": [
        "\n",
        "hdWGCNA es una herramienta bioinformática que permite analizar redes de coexpresión génica en estudios de transcriptómica que nos permite:\n",
        "\n",
        "- Identificar grupos de genes que trabajan juntos en diferentes condiciones, como en enfermedades o en respuesta a fármacos\n",
        "\n",
        "- Encontrar biomarcadores y posibles dianas terapéuticas analizando qué genes están más conectados en una red\n",
        "\n",
        "- Comprender cómo un fármaco afecta la expresión génica y predecir posibles efectos adversos\n",
        "\n",
        "- Estudiar enfermedades complejas como el cáncer o trastornos neurológicos a nivel molecular"
      ]
    },
    {
      "cell_type": "markdown",
      "metadata": {},
      "source": [
        "### 4.1- hdWGCNA 🕸️"
      ]
    },
    {
      "cell_type": "markdown",
      "metadata": {},
      "source": [
        "\n",
        "hdWGCNA es una herramienta bioinformática que permite analizar redes de coexpresión génica en estudios de transcriptómica que nos permite:\n",
        "\n",
        "- Identificar grupos de genes que trabajan juntos en diferentes condiciones, como en enfermedades o en respuesta a fármacos\n",
        "\n",
        "- Encontrar biomarcadores y posibles dianas terapéuticas analizando qué genes están más conectados en una red\n",
        "\n",
        "- Comprender cómo un fármaco afecta la expresión génica y predecir posibles efectos adversos\n",
        "\n",
        "- Estudiar enfermedades complejas como el cáncer o trastornos neurológicos a nivel molecular"
      ]
    },
    {
      "cell_type": "markdown",
      "metadata": {},
      "source": [
        "# **Sección 5: Ciencia de Datos** 🧬💻"
      ]
    },
    {
      "cell_type": "markdown",
      "metadata": {
        "id": "K89uxZNUdVnh"
      },
      "source": [
        "## 5.1- Interpretación de Resultados\n",
        "\n",
        "\n",
        "La interpretación de resultados en biología computacional es el proceso de traducir datos numéricos o estadísticos en conocimiento biológicamente relevante, vinculándolos con mecanismos celulares, enfermedades o aplicaciones farmacéuticas. Se realiza en varias etapas:\n",
        "\n",
        "> Validación técnica:\n",
        "\n",
        "Confirmar que los resultados son robustos (ej.: repetir análisis con distintos parámetros o subconjuntos de datos).\n",
        "\n",
        "\n",
        "> Contextualización biológica:\n",
        "\n",
        "Relacionar genes, proteínas o vías identificadas con funciones conocidas usando bases de datos como KEGG, GO o Reactome.\n",
        "\n",
        "> Integración con literatura:\n",
        "\n",
        "Comparar resultados con estudios previos\n",
        "\n",
        "> Herramientas de apoyo:\n",
        "\n",
        "**Anotación funcional:** DAVID, Enrichr para identificar vías enriquecidas.\n",
        "\n",
        "**Redes biológicas:** Cytoscape para visualizar interacciones entre genes/proteínas descubiertos.\n",
        "\n",
        "**Plataformas farmacológicas:** DrugBank para cruzar dianas identificadas con fármacos existentes.\n",
        "\n",
        "> Traducción a aplicaciones prácticas:\n",
        "\n",
        "Generar hipótesis experimentales\n",
        "\n",
        "\n",
        "\n",
        "\n",
        "*Siempre pregúntense: ¿Qué significa esto para la enfermedad o el fármaco que estudio?*"
      ]
    }
  ],
  "metadata": {
    "colab": {
      "provenance": []
    },
    "kernelspec": {
      "display_name": "Python 3",
      "name": "python3"
    },
    "language_info": {
      "codemirror_mode": {
        "name": "ipython",
        "version": 3
      },
      "file_extension": ".py",
      "mimetype": "text/x-python",
      "name": "python",
      "nbconvert_exporter": "python",
      "pygments_lexer": "ipython3",
      "version": "3.9.5"
    }
  },
  "nbformat": 4,
  "nbformat_minor": 0
}
