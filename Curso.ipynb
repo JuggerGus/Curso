{
  "cells": [
    {
      "cell_type": "markdown",
      "metadata": {
        "id": "ql1UwsZeHBlv"
      },
      "source": [
        "# **Sección 1: Origen de los datos** 🌐"
      ]
    },
    {
      "cell_type": "markdown",
      "metadata": {
        "id": "iMGaRwQe8mI0"
      },
      "source": [
        "## **1.1- Introducción**\n",
        "\n",
        "En un proyecto determinado, la aplicación de estrategias de cómputo depende de la **información disponible del sistema (DATOS)** y de los **objetivos** específicos del estudio.\n",
        "\n",
        "El laboratorio humedo es el primer acercamiento que tenemos a la generación de datos, mejor conocidos como: **Datos Crudos**. \n",
        "\n",
        "\n",
        "---\n",
        "Datos Crudos: Registros originales tal como se recopilaron en el laboratorio sin ningún procesamiento, filtrado o interpretación.\n",
        "\n",
        "---\n",
        "\n",
        "Como QFB, trabajan con muestras complejas como:\n",
        "\n",
        "> *   🩸 Sangre/plasma (biomarcadores)\n",
        "> *   🔬 Tejidos (biopsias)\n",
        "> *   🧫 Cultivos celulares (hepatocitos, líneas cancerosas)\n",
        "> *   🦠 Aislamientos microbianos (resistencia antimicrobiana)\n",
        "\n",
        "Como QFB, trabajan con muestras complejas (Datos Crudos):\n",
        "\n",
        "Después de generar los datos, estos pasan a la computadora para proceder a su manejo y adaptarlas acorde a las herramientas de uso.\n",
        "\n",
        "Las herramientas a utilizar es seleccionada basada a la pregunta del proyecto **¿Que me interesa conocer de mis datos?** \n",
        "\n",
        "\n",
        "# Beneficios:\n",
        "\n",
        "\n",
        "1.   Dejar atrás los análisis unigénicos (qPCR) para adoptar enfoques multiómicos.\n",
        "\n",
        "2.   Vincular sus muestras a mecanismos moleculares con impacto en terapias y diagnósticos\n"
      ]
    },
    {
      "cell_type": "markdown",
      "metadata": {},
      "source": [
        "## **1.2- Herramientas Computacionales**\n",
        "\n",
        "Son programas, plataformas o algoritmos diseñados para analizar, visualizar o interpretar datos biológicos complejos (genéticos, químicos, farmacológicos) de manera automática, rápida y precisa. \n",
        "\n",
        "**FUNCION:** simplificar tareas que manualmente serían imposibles o muy lentas.\n",
        "\n",
        "**CONSEJOS:**\n",
        "> Empieza con herramientas web (CIBERSORTx, STRING) antes de usar software local.\n",
        "\n",
        "> Usa datos de ejemplo: Muchas herramientas ofrecen datasets de prueba para practicar.\n",
        "\n",
        "> Busca tutoriales en YouTube: Hay guías visuales para cada herramienta.\n",
        "\n",
        "\n",
        "**EJEMPLOS:**\n",
        "\n",
        "> STRING (Web)\n",
        "Función: Predecir interacciones entre proteínas \n",
        "\n",
        "> CIBERSORTx (Web)\n",
        "Función: Estimar proporciones de tipos celulares en una muestra\n",
        "\n",
        "> KEGG mapper (Web)\n",
        "Función: Mapear genes o fármacos en vías bioquímicas conocidas\n",
        "\n",
        "> hdWGCNA  (Software)\n",
        "Función:  Encontrar grupos de genes que actúan juntos (módulos) en procesos biológicos."
      ]
    },
    {
      "cell_type": "markdown",
      "metadata": {},
      "source": [
        "## 1.2.1- STRING\n",
        "\n",
        "STRING (Search Tool for Retrieval of Interacting Genes/Proteins) es una plataforma web gratuita que permite estudiar interacciones funcionales entre proteínas, genes o compuestos químicos. Combina datos experimentales, predicciones computacionales y minería de textos para construir redes biológicas.\n",
        "\n",
        "**Enlace: https://string-db.org**\n",
        "\n",
        "### Análisis avanzado (sin programar)\n",
        "> Enriquecimiento funcional:\n",
        "\n",
        "STRING automáticamente detecta qué vías o procesos biológicos están sobrerrepresentados en tu red (ej.: \"apoptosis\", \"metabolismo de lípidos\").\n",
        "\n",
        "> Comparación entre especies\n",
        "> Integración con fármacos:\n",
        "Usa el plugin STITCH para incluir compuestos químicos en la red"
      ]
    },
    {
      "cell_type": "markdown",
      "metadata": {
        "id": "LWcVB8GoHApU"
      },
      "source": [
        "# **Sección 2: BioComputo** 🧪💻\n",
        "\n"
      ]
    },
    {
      "cell_type": "markdown",
      "metadata": {},
      "source": [
        "## **2.1- Google Colaboratory**"
      ]
    },
    {
      "cell_type": "markdown",
      "metadata": {},
      "source": [
        "#### Iniciación de Google Drive"
      ]
    },
    {
      "cell_type": "code",
      "execution_count": null,
      "metadata": {
        "colab": {
          "base_uri": "https://localhost:8080/"
        },
        "id": "NqNM4o4-Hugw",
        "outputId": "01b0dcfe-9924-4256-aacf-3f01d34e695f"
      },
      "outputs": [],
      "source": [
        "from google.colab import drive #Montar Google Drive\n",
        "drive.mount('/content/drive')"
      ]
    },
    {
      "cell_type": "markdown",
      "metadata": {},
      "source": [
        "## **2.2- Preprocesamiento de Datos**"
      ]
    },
    {
      "cell_type": "markdown",
      "metadata": {},
      "source": [
        "## 2.2.1- scRNA-seq"
      ]
    },
    {
      "cell_type": "code",
      "execution_count": 2,
      "metadata": {},
      "outputs": [],
      "source": [
        "# Librerias\n",
        "\n",
        "import pandas as pd\n",
        "import numpy as np\n",
        "import umap\n",
        "import seaborn as sns\n",
        "import matplotlib.pyplot as plt\n",
        "from sklearn.preprocessing import StandardScaler"
      ]
    },
    {
      "cell_type": "code",
      "execution_count": 3,
      "metadata": {},
      "outputs": [
        {
          "name": "stdout",
          "output_type": "stream",
          "text": [
            "Requirement already satisfied: scanpy in c:\\users\\rocio\\appdata\\local\\packages\\pythonsoftwarefoundation.python.3.10_qbz5n2kfra8p0\\localcache\\local-packages\\python310\\site-packages (1.11.0)\n",
            "Requirement already satisfied: anndata>=0.8 in c:\\users\\rocio\\appdata\\local\\packages\\pythonsoftwarefoundation.python.3.10_qbz5n2kfra8p0\\localcache\\local-packages\\python310\\site-packages (from scanpy) (0.11.3)\n",
            "Requirement already satisfied: h5py>=3.7 in c:\\users\\rocio\\appdata\\local\\packages\\pythonsoftwarefoundation.python.3.10_qbz5n2kfra8p0\\localcache\\local-packages\\python310\\site-packages (from scanpy) (3.13.0)\n",
            "Requirement already satisfied: joblib in c:\\users\\rocio\\appdata\\local\\packages\\pythonsoftwarefoundation.python.3.10_qbz5n2kfra8p0\\localcache\\local-packages\\python310\\site-packages (from scanpy) (1.2.0)\n",
            "Requirement already satisfied: legacy-api-wrap>=1.4 in c:\\users\\rocio\\appdata\\local\\packages\\pythonsoftwarefoundation.python.3.10_qbz5n2kfra8p0\\localcache\\local-packages\\python310\\site-packages (from scanpy) (1.4.1)\n",
            "Requirement already satisfied: matplotlib>=3.6 in c:\\users\\rocio\\appdata\\local\\packages\\pythonsoftwarefoundation.python.3.10_qbz5n2kfra8p0\\localcache\\local-packages\\python310\\site-packages (from scanpy) (3.10.1)\n",
            "Requirement already satisfied: natsort in c:\\users\\rocio\\appdata\\local\\packages\\pythonsoftwarefoundation.python.3.10_qbz5n2kfra8p0\\localcache\\local-packages\\python310\\site-packages (from scanpy) (8.4.0)\n",
            "Requirement already satisfied: networkx>=2.7 in c:\\users\\rocio\\appdata\\local\\packages\\pythonsoftwarefoundation.python.3.10_qbz5n2kfra8p0\\localcache\\local-packages\\python310\\site-packages (from scanpy) (2.8.7)\n",
            "Requirement already satisfied: numba>=0.57 in c:\\users\\rocio\\appdata\\local\\packages\\pythonsoftwarefoundation.python.3.10_qbz5n2kfra8p0\\localcache\\local-packages\\python310\\site-packages (from scanpy) (0.61.0)\n",
            "Requirement already satisfied: numpy>=1.24 in c:\\users\\rocio\\appdata\\local\\packages\\pythonsoftwarefoundation.python.3.10_qbz5n2kfra8p0\\localcache\\local-packages\\python310\\site-packages (from scanpy) (1.25.2)\n",
            "Requirement already satisfied: packaging>=21.3 in c:\\users\\rocio\\appdata\\local\\packages\\pythonsoftwarefoundation.python.3.10_qbz5n2kfra8p0\\localcache\\local-packages\\python310\\site-packages (from scanpy) (21.3)\n",
            "Requirement already satisfied: pandas>=1.5 in c:\\users\\rocio\\appdata\\local\\packages\\pythonsoftwarefoundation.python.3.10_qbz5n2kfra8p0\\localcache\\local-packages\\python310\\site-packages (from scanpy) (1.5.1)\n",
            "Requirement already satisfied: patsy!=1.0.0 in c:\\users\\rocio\\appdata\\local\\packages\\pythonsoftwarefoundation.python.3.10_qbz5n2kfra8p0\\localcache\\local-packages\\python310\\site-packages (from scanpy) (1.0.1)\n",
            "Requirement already satisfied: pynndescent>=0.5 in c:\\users\\rocio\\appdata\\local\\packages\\pythonsoftwarefoundation.python.3.10_qbz5n2kfra8p0\\localcache\\local-packages\\python310\\site-packages (from scanpy) (0.5.8)\n",
            "Requirement already satisfied: scikit-learn<1.6.0,>=1.1 in c:\\users\\rocio\\appdata\\local\\packages\\pythonsoftwarefoundation.python.3.10_qbz5n2kfra8p0\\localcache\\local-packages\\python310\\site-packages (from scanpy) (1.2.2)\n",
            "Requirement already satisfied: scipy>=1.8 in c:\\users\\rocio\\appdata\\local\\packages\\pythonsoftwarefoundation.python.3.10_qbz5n2kfra8p0\\localcache\\local-packages\\python310\\site-packages (from scanpy) (1.9.3)\n",
            "Requirement already satisfied: seaborn>=0.13 in c:\\users\\rocio\\appdata\\local\\packages\\pythonsoftwarefoundation.python.3.10_qbz5n2kfra8p0\\localcache\\local-packages\\python310\\site-packages (from scanpy) (0.13.2)\n",
            "Requirement already satisfied: session-info2 in c:\\users\\rocio\\appdata\\local\\packages\\pythonsoftwarefoundation.python.3.10_qbz5n2kfra8p0\\localcache\\local-packages\\python310\\site-packages (from scanpy) (0.1.2)\n",
            "Requirement already satisfied: statsmodels>=0.13 in c:\\users\\rocio\\appdata\\local\\packages\\pythonsoftwarefoundation.python.3.10_qbz5n2kfra8p0\\localcache\\local-packages\\python310\\site-packages (from scanpy) (0.14.4)\n",
            "Requirement already satisfied: tqdm in c:\\users\\rocio\\appdata\\local\\packages\\pythonsoftwarefoundation.python.3.10_qbz5n2kfra8p0\\localcache\\local-packages\\python310\\site-packages (from scanpy) (4.64.1)\n",
            "Requirement already satisfied: typing-extensions in c:\\users\\rocio\\appdata\\local\\packages\\pythonsoftwarefoundation.python.3.10_qbz5n2kfra8p0\\localcache\\local-packages\\python310\\site-packages (from scanpy) (4.12.2)\n",
            "Requirement already satisfied: umap-learn!=0.5.0,>=0.5 in c:\\users\\rocio\\appdata\\local\\packages\\pythonsoftwarefoundation.python.3.10_qbz5n2kfra8p0\\localcache\\local-packages\\python310\\site-packages (from scanpy) (0.5.3)\n",
            "Requirement already satisfied: array-api-compat!=1.5,>1.4 in c:\\users\\rocio\\appdata\\local\\packages\\pythonsoftwarefoundation.python.3.10_qbz5n2kfra8p0\\localcache\\local-packages\\python310\\site-packages (from anndata>=0.8->scanpy) (1.11.2)\n",
            "Requirement already satisfied: exceptiongroup in c:\\users\\rocio\\appdata\\local\\packages\\pythonsoftwarefoundation.python.3.10_qbz5n2kfra8p0\\localcache\\local-packages\\python310\\site-packages (from anndata>=0.8->scanpy) (1.1.0)\n",
            "Requirement already satisfied: contourpy>=1.0.1 in c:\\users\\rocio\\appdata\\local\\packages\\pythonsoftwarefoundation.python.3.10_qbz5n2kfra8p0\\localcache\\local-packages\\python310\\site-packages (from matplotlib>=3.6->scanpy) (1.0.6)\n",
            "Requirement already satisfied: cycler>=0.10 in c:\\users\\rocio\\appdata\\local\\packages\\pythonsoftwarefoundation.python.3.10_qbz5n2kfra8p0\\localcache\\local-packages\\python310\\site-packages (from matplotlib>=3.6->scanpy) (0.11.0)\n",
            "Requirement already satisfied: fonttools>=4.22.0 in c:\\users\\rocio\\appdata\\local\\packages\\pythonsoftwarefoundation.python.3.10_qbz5n2kfra8p0\\localcache\\local-packages\\python310\\site-packages (from matplotlib>=3.6->scanpy) (4.38.0)\n",
            "Requirement already satisfied: kiwisolver>=1.3.1 in c:\\users\\rocio\\appdata\\local\\packages\\pythonsoftwarefoundation.python.3.10_qbz5n2kfra8p0\\localcache\\local-packages\\python310\\site-packages (from matplotlib>=3.6->scanpy) (1.4.4)\n",
            "Requirement already satisfied: pillow>=8 in c:\\users\\rocio\\appdata\\local\\packages\\pythonsoftwarefoundation.python.3.10_qbz5n2kfra8p0\\localcache\\local-packages\\python310\\site-packages (from matplotlib>=3.6->scanpy) (9.3.0)\n",
            "Requirement already satisfied: pyparsing>=2.3.1 in c:\\users\\rocio\\appdata\\local\\packages\\pythonsoftwarefoundation.python.3.10_qbz5n2kfra8p0\\localcache\\local-packages\\python310\\site-packages (from matplotlib>=3.6->scanpy) (3.0.9)\n",
            "Requirement already satisfied: python-dateutil>=2.7 in c:\\users\\rocio\\appdata\\local\\packages\\pythonsoftwarefoundation.python.3.10_qbz5n2kfra8p0\\localcache\\local-packages\\python310\\site-packages (from matplotlib>=3.6->scanpy) (2.8.2)\n",
            "Requirement already satisfied: llvmlite<0.45,>=0.44.0dev0 in c:\\users\\rocio\\appdata\\local\\packages\\pythonsoftwarefoundation.python.3.10_qbz5n2kfra8p0\\localcache\\local-packages\\python310\\site-packages (from numba>=0.57->scanpy) (0.44.0)\n",
            "Requirement already satisfied: pytz>=2020.1 in c:\\users\\rocio\\appdata\\local\\packages\\pythonsoftwarefoundation.python.3.10_qbz5n2kfra8p0\\localcache\\local-packages\\python310\\site-packages (from pandas>=1.5->scanpy) (2022.5)\n",
            "Requirement already satisfied: threadpoolctl>=2.0.0 in c:\\users\\rocio\\appdata\\local\\packages\\pythonsoftwarefoundation.python.3.10_qbz5n2kfra8p0\\localcache\\local-packages\\python310\\site-packages (from scikit-learn<1.6.0,>=1.1->scanpy) (3.1.0)\n",
            "Requirement already satisfied: colorama in c:\\users\\rocio\\appdata\\local\\packages\\pythonsoftwarefoundation.python.3.10_qbz5n2kfra8p0\\localcache\\local-packages\\python310\\site-packages (from tqdm->scanpy) (0.4.6)\n",
            "Requirement already satisfied: six>=1.5 in c:\\users\\rocio\\appdata\\local\\packages\\pythonsoftwarefoundation.python.3.10_qbz5n2kfra8p0\\localcache\\local-packages\\python310\\site-packages (from python-dateutil>=2.7->matplotlib>=3.6->scanpy) (1.16.0)\n"
          ]
        },
        {
          "name": "stderr",
          "output_type": "stream",
          "text": [
            "\n",
            "[notice] A new release of pip is available: 23.1.2 -> 25.0.1\n",
            "[notice] To update, run: C:\\Users\\Rocio\\AppData\\Local\\Microsoft\\WindowsApps\\PythonSoftwareFoundation.Python.3.10_qbz5n2kfra8p0\\python.exe -m pip install --upgrade pip\n"
          ]
        }
      ],
      "source": [
        "!pip install scanpy"
      ]
    },
    {
      "cell_type": "code",
      "execution_count": 4,
      "metadata": {},
      "outputs": [],
      "source": [
        "import scanpy as sc"
      ]
    },
    {
      "cell_type": "code",
      "execution_count": 5,
      "metadata": {},
      "outputs": [],
      "source": [
        "import anndata"
      ]
    },
    {
      "cell_type": "code",
      "execution_count": 6,
      "metadata": {},
      "outputs": [
        {
          "name": "stderr",
          "output_type": "stream",
          "text": [
            "C:\\Users\\Rocio\\AppData\\Local\\Temp\\ipykernel_5992\\1581996644.py:2: DtypeWarning: Columns (1,2,3,4,5,6,7,8,9,10,11,12,13,14,15,16,17,18,19,20,21,22,23,24,25,26,27,28,29,30,31,32,33,34,35,36,37,38,39,40,41,42,43,44,45,46,47,48,49,50,51,52,53,54,55,56,57,58,59,60,61,62,63,64,65,66,67,68,69,70,71,72,73,74,75,76,77,78,79,80,81,82,83,84,85,86,87,88,89,90,91,92,93,94,95,96,97,98,99,100,101,102,103,104,105,106,107,108,109,110,111,112,113,114,115,116,117,118,119,120,121,122,123,124,125,126,127,128,129,130,131,132,133,134,135,136,137,138,139,140,141,142,143,144,145,146,147,148,149,150,151,152,153,154,155,156,157,158,159,160,161,162,163,164,165,166,167,168,169,170,171,172,173,174,175,176,177,178,179,180,181,182,183,184,185,186,187,188,189,190,191,192,193,194,195,196,197,198,199,200,201,202,203,204,205,206,207,208,209,210,211,212,213,214,215,216,217,218,219,220,221,222,223,224,225,226,227,228,229,230,231,232,233,234,235,236,237,238,239,240,241,242,243,244,245,246,247,248,249,250,251,252,253,254,255,256,257,258,259,260,261,262,263,264,265,266,267,268,269,270,271,272,273,274,275,276,277,278,279,280,281,282,283,284,285,286,287,288,289,290,291,292,293,294,295,296,297,298,299,300,301,302,303,304,305,306,307,308,309,310,311,312,313,314,315,316,317,318,319,320,321,322,323,324,325,326,327,328,329,330,331,332,333,334,335,336,337,338,339,340,341,342,343,344,345,346,347,348,349,350,351,352,353,354,355,356,357,358,359,360,361,362,363,364,365,366,367,368,369,370,371,372,373,374,375,376,377,378,379,380,381,382,383,384,385,386,387,388,389,390,391,392,393,394,395,396,397,398,399,400,401,402,403,404,405,406,407,408,409,410,411,412,413,414,415,416,417,418,419,420,421,422,423,424,425,426,427,428,429,430,431,432,433,434,435,436,437,438,439,440,441,442,443,444,445,446,447,448,449,450,451,452,453,454,455,456,457,458,459,460,461,462,463,464,465,466,467,468,469,470,471,472,473,474,475,476,477,478,479,480,481,482,483,484,485,486,487,488,489,490,491,492,493,494,495,496,497,498,499,500,501,502,503,504,505,506,507,508,509,510,511,512,513,514,515,516,517,518,519,520,521,522,523,524,525,526,527,528,529,530,531,532,533,534,535,536,537,538,539,540,541,542,543,544,545,546,547,548,549,550,551,552,553,554,555,556,557,558,559,560,561,562,563,564,565,566,567,568,569,570,571,572,573,574,575,576,577,578,579,580,581,582,583,584,585,586,587,588,589,590,591,592,593,594,595,596,597,598,599,600,601,602,603,604,605,606,607,608,609,610,611,612,613,614,615,616,617,618,619,620,621,622,623,624,625,626,627,628,629,630,631,632,633,634,635,636,637,638,639,640,641,642,643,644,645,646,647,648,649,650,651,652,653,654,655,656,657,658,659,660,661,662,663,664,665,666,667,668,669,670,671,672,673,674,675,676,677,678,679,680,681,682,683,684,685,686,687,688,689,690,691,692,693,694,695,696,697,698,699,700,701,702,703,704,705,706,707,708,709,710,711,712,713,714,715,716,717,718,719,720,721,722,723,724,725,726,727,728,729,730,731,732,733,734,735,736,737,738,739,740,741,742,743,744,745,746,747,748,749,750,751,752,753,754,755,756,757,758,759,760,761,762,763,764,765,766,767,768,769,770,771,772,773,774,775,776,777,778,779,780,781,782,783,784,785,786,787,788,789,790,791,792,793,794,795,796,797,798,799,800,801,802,803,804,805,806,807,808,809,810,811,812,813,814,815,816,817,818,819,820,821,822,823,824,825,826,827,828,829,830,831,832,833,834,835,836,837,838,839,840,841,842,843,844,845,846,847,848,849,850,851,852,853,854,855,856,857,858,859,860,861,862,863,864,865,866,867,868,869,870,871,872,873,874,875,876,877,878,879,880,881,882,883,884,885,886,887,888,889,890,891,892,893,894,895,896,897,898,899,900,901,902,903,904,905,906,907,908,909,910,911,912,913,914,915,916,917,918,919,920,921,922,923,924,925,926,927,928,929,930,931,932,933,934,935,936,937,938,939,940,941,942,943,944,945,946,947,948,949,950,951,952,953,954,955,956,957,958,959,960,961,962,963,964,965,966,967,968,969,970,971,972,973,974,975,976,977,978,979,980,981,982,983,984,985,986,987,988,989,990,991,992,993,994,995,996,997,998,999,1000,1001,1002,1003,1004,1005,1006,1007,1008,1009,1010,1011,1012,1013,1014,1015,1016,1017,1018,1019,1020,1021,1022,1023,1024,1025,1026,1027,1028,1029,1030,1031,1032,1033,1034,1035,1036,1037,1038,1039,1040,1041,1042,1043,1044,1045,1046,1047,1048,1049,1050,1051,1052,1053,1054,1055,1056,1057,1058,1059,1060,1061,1062,1063,1064,1065,1066,1067,1068,1069,1070,1071,1072,1073,1074,1075,1076,1077,1078,1079,1080,1081,1082,1083,1084,1085,1086,1087,1088,1089,1090,1091,1092,1093,1094,1095,1096,1097,1098,1099,1100,1101,1102,1103,1104,1105,1106,1107,1108,1109,1110,1111,1112,1113,1114,1115,1116,1117,1118,1119,1120,1121,1122,1123,1124,1125,1126,1127,1128,1129,1130,1131,1132,1133,1134,1135,1136,1137,1138,1139,1140,1141,1142,1143,1144,1145,1146,1147,1148,1149,1150,1151,1152,1153,1154,1155,1156,1157,1158,1159,1160,1161,1162,1163,1164,1165,1166,1167,1168,1169,1170,1171,1172,1173,1174,1175,1176,1177,1178,1179,1180,1181,1182,1183,1184,1185,1186,1187,1188,1189,1190,1191,1192,1193,1194,1195,1196,1197,1198,1199,1200,1201,1202,1203,1204,1205,1206,1207,1208,1209,1210,1211,1212,1213,1214,1215,1216,1217,1218,1219,1220,1221,1222,1223,1224,1225,1226,1227,1228,1229,1230,1231,1232,1233,1234,1235,1236,1237,1238,1239,1240,1241,1242,1243,1244,1245,1246,1247,1248,1249,1250,1251,1252,1253,1254,1255,1256,1257,1258,1259,1260,1261,1262,1263,1264,1265,1266,1267,1268,1269,1270,1271,1272,1273,1274,1275,1276,1277,1278,1279,1280,1281,1282,1283,1284,1285,1286,1287,1288,1289,1290,1291,1292,1293,1294,1295,1296,1297,1298,1299,1300,1301,1302,1303,1304,1305,1306,1307,1308,1309,1310,1311,1312,1313,1314,1315,1316,1317,1318,1319,1320,1321,1322,1323,1324,1325,1326,1327,1328,1329,1330,1331,1332,1333,1334,1335,1336,1337,1338,1339,1340,1341,1342,1343,1344,1345,1346,1347,1348,1349,1350,1351,1352,1353,1354,1355,1356,1357,1358,1359,1360,1361,1362,1363,1364,1365,1366,1367,1368,1369,1370,1371,1372,1373,1374,1375,1376,1377,1378,1379,1380,1381,1382,1383,1384,1385,1386,1387,1388,1389,1390,1391,1392,1393,1394,1395,1396,1397,1398,1399,1400,1401,1402,1403,1404,1405,1406,1407,1408,1409,1410,1411,1412,1413,1414,1415,1416,1417,1418,1419,1420,1421,1422,1423,1424,1425,1426,1427,1428,1429,1430,1431,1432,1433,1434,1435,1436,1437,1438,1439,1440,1441,1442,1443,1444,1445,1446,1447,1448,1449,1450,1451,1452,1453,1454,1455,1456,1457,1458,1459,1460,1461,1462,1463,1464,1465,1466,1467,1468,1469,1470,1471,1472,1473,1474,1475,1476,1477,1478,1479,1480,1481,1482,1483,1484,1485,1486,1487,1488,1489,1490,1491,1492,1493,1494,1495,1496,1497,1498,1499,1500,1501,1502,1503,1504,1505,1506,1507,1508,1509,1510,1511,1512,1513,1514,1515,1516,1517,1518,1519,1520,1521,1522,1523,1524,1525,1526,1527,1528,1529,1530,1531,1532,1533,1534,1535,1536,1537,1538,1539,1540,1541,1542,1543,1544,1545,1546,1547,1548,1549,1550,1551,1552,1553,1554,1555,1556,1557,1558,1559,1560,1561,1562,1563,1564,1565,1566,1567,1568,1569,1570,1571,1572,1573,1574,1575,1576,1577,1578,1579,1580,1581,1582,1583,1584,1585,1586,1587,1588,1589,1590,1591,1592,1593,1594,1595,1596,1597,1598,1599,1600,1601,1602,1603,1604,1605,1606,1607,1608,1609,1610,1611,1612,1613,1614,1615,1616,1617,1618,1619,1620,1621,1622,1623,1624,1625,1626,1627,1628,1629,1630,1631,1632,1633,1634,1635,1636,1637,1638,1639,1640,1641,1642,1643,1644,1645,1646,1647,1648,1649,1650,1651,1652,1653,1654,1655,1656,1657,1658,1659,1660,1661,1662,1663,1664,1665,1666,1667,1668,1669,1670,1671,1672,1673,1674,1675,1676,1677,1678,1679,1680,1681,1682,1683,1684,1685,1686,1687,1688,1689,1690,1691,1692,1693,1694,1695,1696,1697,1698,1699,1700,1701,1702,1703,1704,1705,1706,1707,1708,1709,1710,1711,1712,1713,1714,1715,1716,1717,1718,1719,1720,1721,1722,1723,1724,1725,1726,1727,1728,1729,1730,1731,1732,1733,1734,1735,1736,1737,1738,1739,1740,1741,1742,1743,1744,1745,1746,1747,1748,1749,1750,1751,1752,1753,1754,1755,1756,1757,1758,1759,1760,1761,1762,1763,1764,1765,1766,1767,1768,1769,1770,1771,1772,1773,1774,1775,1776,1777,1778,1779,1780,1781,1782,1783,1784,1785,1786,1787,1788,1789,1790,1791,1792,1793,1794,1795,1796,1797,1798,1799,1800,1801,1802,1803,1804,1805,1806,1807,1808,1809,1810,1811,1812,1813,1814,1815,1816,1817,1818,1819,1820,1821,1822,1823,1824,1825,1826,1827,1828,1829,1830,1831,1832,1833,1834,1835,1836,1837,1838,1839,1840,1841,1842,1843,1844,1845,1846,1847,1848,1849,1850,1851,1852,1853,1854,1855,1856,1857,1858,1859,1860,1861,1862,1863,1864,1865,1866,1867,1868,1869,1870,1871,1872,1873,1874,1875,1876,1877,1878,1879,1880,1881,1882,1883,1884,1885,1886,1887,1888,1889,1890,1891,1892,1893,1894,1895,1896,1897,1898,1899,1900,1901,1902,1903,1904,1905,1906,1907,1908,1909,1910,1911,1912,1913,1914,1915,1916,1917,1918,1919,1920,1921,1922,1923,1924,1925,1926,1927,1928,1929,1930,1931,1932,1933,1934,1935,1936,1937,1938,1939,1940,1941,1942,1943,1944,1945,1946,1947,1948,1949,1950,1951,1952,1953,1954,1955,1956,1957,1958,1959,1960,1961,1962,1963,1964,1965,1966,1967,1968,1969,1970,1971,1972,1973,1974,1975,1976,1977,1978,1979,1980,1981,1982,1983,1984,1985,1986,1987,1988,1989,1990,1991,1992,1993,1994,1995,1996,1997,1998,1999,2000,2001,2002,2003,2004,2005,2006,2007,2008,2009,2010,2011,2012,2013,2014,2015,2016,2017,2018,2019,2020,2021,2022,2023,2024,2025,2026,2027,2028,2029,2030,2031,2032,2033,2034,2035,2036,2037,2038,2039,2040,2041,2042,2043,2044,2045,2046,2047,2048,2049,2050,2051,2052,2053,2054,2055,2056,2057,2058,2059,2060,2061,2062,2063,2064,2065,2066,2067,2068,2069,2070,2071,2072,2073,2074,2075,2076,2077,2078,2079,2080,2081,2082,2083,2084,2085,2086,2087,2088,2089,2090,2091,2092,2093,2094,2095,2096,2097,2098,2099,2100,2101,2102,2103,2104,2105,2106,2107,2108,2109,2110,2111,2112,2113,2114,2115,2116,2117,2118,2119,2120,2121,2122,2123,2124,2125,2126,2127,2128,2129,2130,2131,2132,2133,2134,2135,2136,2137,2138,2139,2140,2141,2142,2143,2144,2145,2146,2147,2148,2149,2150,2151,2152,2153,2154,2155,2156,2157,2158,2159,2160,2161,2162,2163,2164,2165,2166,2167,2168,2169,2170,2171,2172,2173,2174,2175,2176,2177,2178,2179,2180,2181,2182,2183,2184,2185,2186,2187,2188,2189,2190,2191,2192,2193,2194,2195,2196,2197,2198,2199,2200,2201,2202,2203,2204,2205,2206,2207,2208,2209,2210,2211,2212,2213,2214,2215,2216,2217,2218,2219,2220,2221,2222,2223,2224,2225,2226,2227,2228,2229,2230,2231,2232,2233,2234,2235,2236,2237,2238,2239,2240,2241,2242,2243,2244,2245,2246,2247,2248,2249,2250,2251,2252,2253,2254,2255,2256,2257,2258,2259,2260,2261,2262,2263,2264,2265,2266,2267,2268,2269,2270,2271,2272,2273,2274,2275,2276,2277,2278,2279,2280,2281,2282,2283,2284,2285,2286,2287,2288,2289,2290,2291,2292,2293,2294,2295,2296,2297,2298,2299,2300,2301,2302,2303,2304,2305,2306,2307,2308,2309,2310,2311,2312,2313,2314,2315,2316,2317,2318,2319,2320,2321,2322,2323,2324,2325,2326,2327,2328,2329,2330,2331,2332,2333,2334,2335,2336,2337,2338,2339,2340,2341,2342,2343,2344,2345,2346,2347,2348,2349,2350,2351,2352,2353,2354,2355,2356,2357,2358,2359,2360,2361,2362,2363,2364,2365,2366,2367,2368,2369,2370,2371,2372,2373,2374,2375,2376,2377,2378,2379,2380,2381,2382,2383,2384,2385,2386,2387,2388,2389,2390,2391,2392,2393,2394,2395,2396,2397,2398,2399,2400,2401,2402,2403,2404,2405,2406,2407,2408,2409,2410,2411,2412,2413,2414,2415,2416,2417,2418,2419,2420,2421,2422,2423,2424,2425,2426,2427,2428,2429,2430,2431,2432,2433,2434,2435,2436,2437,2438,2439,2440,2441,2442,2443,2444,2445,2446,2447,2448,2449,2450,2451,2452,2453,2454,2455,2456,2457,2458,2459,2460,2461,2462,2463,2464,2465,2466,2467,2468,2469,2470,2471,2472,2473,2474,2475,2476,2477,2478,2479,2480,2481,2482,2483,2484,2485,2486,2487,2488,2489,2490,2491,2492,2493,2494,2495,2496,2497,2498,2499,2500,2501,2502,2503,2504,2505,2506,2507,2508,2509,2510,2511,2512,2513,2514,2515,2516,2517,2518,2519,2520,2521,2522,2523,2524,2525,2526,2527,2528,2529,2530,2531,2532,2533,2534,2535,2536,2537,2538,2539,2540,2541,2542,2543,2544,2545,2546,2547,2548,2549,2550,2551,2552,2553,2554,2555,2556,2557,2558,2559,2560,2561,2562,2563,2564,2565,2566,2567,2568,2569,2570,2571,2572,2573,2574,2575,2576,2577,2578,2579,2580,2581,2582,2583,2584,2585,2586,2587,2588,2589,2590,2591,2592,2593,2594,2595,2596,2597,2598,2599,2600,2601,2602,2603,2604,2605,2606,2607,2608,2609,2610,2611,2612,2613,2614,2615,2616,2617,2618,2619,2620,2621,2622,2623,2624,2625,2626,2627,2628,2629,2630,2631,2632,2633,2634,2635,2636,2637,2638,2639,2640,2641,2642,2643,2644,2645,2646,2647,2648,2649,2650,2651,2652,2653,2654,2655,2656,2657,2658,2659,2660,2661,2662,2663,2664,2665,2666,2667,2668,2669,2670,2671,2672,2673,2674,2675,2676,2677,2678,2679,2680,2681,2682,2683,2684,2685,2686,2687,2688,2689,2690,2691,2692,2693,2694,2695,2696,2697,2698,2699,2700,2701,2702,2703,2704,2705,2706,2707,2708,2709,2710,2711,2712,2713,2714,2715,2716,2717,2718,2719,2720,2721,2722,2723,2724,2725,2726,2727,2728,2729,2730,2731,2732,2733,2734,2735,2736,2737,2738,2739,2740,2741,2742,2743,2744,2745,2746,2747,2748,2749,2750,2751,2752,2753,2754,2755,2756,2757,2758,2759,2760,2761,2762,2763,2764,2765,2766,2767,2768,2769,2770,2771,2772,2773,2774,2775,2776,2777,2778,2779,2780,2781,2782,2783,2784,2785,2786,2787,2788,2789,2790,2791,2792,2793,2794,2795,2796,2797,2798,2799,2800,2801,2802,2803,2804,2805,2806,2807,2808,2809,2810,2811,2812,2813,2814,2815,2816,2817,2818,2819,2820,2821,2822,2823,2824,2825,2826,2827,2828,2829,2830,2831,2832,2833,2834,2835,2836,2837,2838,2839,2840,2841,2842,2843,2844,2845,2846,2847,2848,2849,2850,2851,2852,2853,2854,2855,2856,2857,2858,2859,2860,2861,2862,2863,2864,2865,2866,2867,2868,2869,2870,2871,2872,2873,2874,2875,2876,2877,2878,2879,2880,2881,2882,2883,2884,2885,2886,2887,2888,2889,2890,2891,2892,2893,2894,2895,2896,2897,2898,2899,2900,2901,2902,2903,2904,2905,2906,2907,2908,2909,2910,2911,2912,2913,2914,2915,2916,2917,2918,2919,2920,2921,2922,2923,2924,2925,2926,2927,2928,2929,2930,2931,2932,2933,2934,2935,2936,2937,2938,2939,2940,2941,2942,2943,2944,2945,2946,2947,2948,2949,2950,2951,2952,2953,2954,2955,2956,2957,2958,2959,2960,2961,2962,2963,2964,2965,2966,2967,2968,2969,2970,2971,2972,2973,2974,2975,2976,2977,2978,2979,2980,2981,2982,2983,2984,2985,2986,2987,2988,2989,2990,2991,2992,2993,2994,2995,2996,2997,2998,2999,3000) have mixed types. Specify dtype option on import or set low_memory=False.\n",
            "  singlecell=pd.read_csv(\"C:/Users/Rocio/Desktop/singlecell_segmented.csv\", index_col=0, header=0) #Single Cell con 3,000 muestras celulares de 15 tipos celulares\n"
          ]
        },
        {
          "data": {
            "text/html": [
              "<div>\n",
              "<style scoped>\n",
              "    .dataframe tbody tr th:only-of-type {\n",
              "        vertical-align: middle;\n",
              "    }\n",
              "\n",
              "    .dataframe tbody tr th {\n",
              "        vertical-align: top;\n",
              "    }\n",
              "\n",
              "    .dataframe thead th {\n",
              "        text-align: right;\n",
              "    }\n",
              "</style>\n",
              "<table border=\"1\" class=\"dataframe\">\n",
              "  <thead>\n",
              "    <tr style=\"text-align: right;\">\n",
              "      <th>Unnamed: 0</th>\n",
              "      <th>ENSG00000238009</th>\n",
              "      <th>ENSG00000241860</th>\n",
              "      <th>ENSG00000229905</th>\n",
              "      <th>ENSG00000237491</th>\n",
              "      <th>ENSG00000177757</th>\n",
              "      <th>ENSG00000228794</th>\n",
              "      <th>ENSG00000225880</th>\n",
              "      <th>ENSG00000230368</th>\n",
              "      <th>ENSG00000272438</th>\n",
              "      <th>ENSG00000230699</th>\n",
              "      <th>...</th>\n",
              "      <th>ENSG00000276256</th>\n",
              "      <th>ENSG00000278198</th>\n",
              "      <th>ENSG00000273496</th>\n",
              "      <th>ENSG00000278384</th>\n",
              "      <th>ENSG00000273748</th>\n",
              "      <th>ENSG00000271254</th>\n",
              "      <th>ENSG00000276345</th>\n",
              "      <th>ENSG00000278817</th>\n",
              "      <th>ENSG00000277196</th>\n",
              "      <th>cell_types</th>\n",
              "    </tr>\n",
              "  </thead>\n",
              "  <tbody>\n",
              "    <tr>\n",
              "      <th>EN-fetal-late.4471</th>\n",
              "      <td>0.0</td>\n",
              "      <td>0.0</td>\n",
              "      <td>0.0</td>\n",
              "      <td>0.0</td>\n",
              "      <td>0.0</td>\n",
              "      <td>0.0</td>\n",
              "      <td>0.0</td>\n",
              "      <td>0.0</td>\n",
              "      <td>0.0</td>\n",
              "      <td>0.0</td>\n",
              "      <td>...</td>\n",
              "      <td>99.64585861846996</td>\n",
              "      <td>0.0</td>\n",
              "      <td>0.0</td>\n",
              "      <td>0.0</td>\n",
              "      <td>0.0</td>\n",
              "      <td>0.0</td>\n",
              "      <td>0.0</td>\n",
              "      <td>0.0</td>\n",
              "      <td>0.0</td>\n",
              "      <td>EN-fetal-late</td>\n",
              "    </tr>\n",
              "    <tr>\n",
              "      <th>EN-fetal-late.124</th>\n",
              "      <td>0.0</td>\n",
              "      <td>0.0</td>\n",
              "      <td>0.0</td>\n",
              "      <td>0.0</td>\n",
              "      <td>0.0</td>\n",
              "      <td>0.0</td>\n",
              "      <td>0.0</td>\n",
              "      <td>0.0</td>\n",
              "      <td>0.0</td>\n",
              "      <td>0.0</td>\n",
              "      <td>...</td>\n",
              "      <td>0.0</td>\n",
              "      <td>0.0</td>\n",
              "      <td>0.0</td>\n",
              "      <td>0.0</td>\n",
              "      <td>0.0</td>\n",
              "      <td>0.0</td>\n",
              "      <td>0.0</td>\n",
              "      <td>0.0</td>\n",
              "      <td>0.0</td>\n",
              "      <td>EN-fetal-late</td>\n",
              "    </tr>\n",
              "    <tr>\n",
              "      <th>EN-fetal-late.6068</th>\n",
              "      <td>0.0</td>\n",
              "      <td>0.0</td>\n",
              "      <td>0.0</td>\n",
              "      <td>0.0</td>\n",
              "      <td>0.0</td>\n",
              "      <td>14.073577</td>\n",
              "      <td>0.0</td>\n",
              "      <td>0.0</td>\n",
              "      <td>0.0</td>\n",
              "      <td>0.0</td>\n",
              "      <td>...</td>\n",
              "      <td>0.0</td>\n",
              "      <td>0.0</td>\n",
              "      <td>0.0</td>\n",
              "      <td>0.0</td>\n",
              "      <td>0.0</td>\n",
              "      <td>0.0</td>\n",
              "      <td>0.0</td>\n",
              "      <td>0.0</td>\n",
              "      <td>0.0</td>\n",
              "      <td>EN-fetal-late</td>\n",
              "    </tr>\n",
              "    <tr>\n",
              "      <th>EN-fetal-late.3900</th>\n",
              "      <td>0.0</td>\n",
              "      <td>0.0</td>\n",
              "      <td>0.0</td>\n",
              "      <td>0.0</td>\n",
              "      <td>0.0</td>\n",
              "      <td>0.0</td>\n",
              "      <td>0.0</td>\n",
              "      <td>0.0</td>\n",
              "      <td>0.0</td>\n",
              "      <td>0.0</td>\n",
              "      <td>...</td>\n",
              "      <td>0.0</td>\n",
              "      <td>0.0</td>\n",
              "      <td>0.0</td>\n",
              "      <td>0.0</td>\n",
              "      <td>0.0</td>\n",
              "      <td>0.0</td>\n",
              "      <td>0.0</td>\n",
              "      <td>0.0</td>\n",
              "      <td>0.0</td>\n",
              "      <td>EN-fetal-late</td>\n",
              "    </tr>\n",
              "    <tr>\n",
              "      <th>EN-fetal-late.3926</th>\n",
              "      <td>0.0</td>\n",
              "      <td>0.0</td>\n",
              "      <td>0.0</td>\n",
              "      <td>0.0</td>\n",
              "      <td>0.0</td>\n",
              "      <td>0.0</td>\n",
              "      <td>0.0</td>\n",
              "      <td>0.0</td>\n",
              "      <td>0.0</td>\n",
              "      <td>0.0</td>\n",
              "      <td>...</td>\n",
              "      <td>0.0</td>\n",
              "      <td>0.0</td>\n",
              "      <td>0.0</td>\n",
              "      <td>0.0</td>\n",
              "      <td>0.0</td>\n",
              "      <td>0.0</td>\n",
              "      <td>0.0</td>\n",
              "      <td>0.0</td>\n",
              "      <td>0.0</td>\n",
              "      <td>EN-fetal-late</td>\n",
              "    </tr>\n",
              "  </tbody>\n",
              "</table>\n",
              "<p>5 rows × 30114 columns</p>\n",
              "</div>"
            ],
            "text/plain": [
              "Unnamed: 0         ENSG00000238009 ENSG00000241860 ENSG00000229905  \\\n",
              "EN-fetal-late.4471             0.0             0.0             0.0   \n",
              "EN-fetal-late.124              0.0             0.0             0.0   \n",
              "EN-fetal-late.6068             0.0             0.0             0.0   \n",
              "EN-fetal-late.3900             0.0             0.0             0.0   \n",
              "EN-fetal-late.3926             0.0             0.0             0.0   \n",
              "\n",
              "Unnamed: 0         ENSG00000237491 ENSG00000177757 ENSG00000228794  \\\n",
              "EN-fetal-late.4471             0.0             0.0             0.0   \n",
              "EN-fetal-late.124              0.0             0.0             0.0   \n",
              "EN-fetal-late.6068             0.0             0.0       14.073577   \n",
              "EN-fetal-late.3900             0.0             0.0             0.0   \n",
              "EN-fetal-late.3926             0.0             0.0             0.0   \n",
              "\n",
              "Unnamed: 0         ENSG00000225880 ENSG00000230368 ENSG00000272438  \\\n",
              "EN-fetal-late.4471             0.0             0.0             0.0   \n",
              "EN-fetal-late.124              0.0             0.0             0.0   \n",
              "EN-fetal-late.6068             0.0             0.0             0.0   \n",
              "EN-fetal-late.3900             0.0             0.0             0.0   \n",
              "EN-fetal-late.3926             0.0             0.0             0.0   \n",
              "\n",
              "Unnamed: 0         ENSG00000230699  ...    ENSG00000276256 ENSG00000278198  \\\n",
              "EN-fetal-late.4471             0.0  ...  99.64585861846996             0.0   \n",
              "EN-fetal-late.124              0.0  ...                0.0             0.0   \n",
              "EN-fetal-late.6068             0.0  ...                0.0             0.0   \n",
              "EN-fetal-late.3900             0.0  ...                0.0             0.0   \n",
              "EN-fetal-late.3926             0.0  ...                0.0             0.0   \n",
              "\n",
              "Unnamed: 0         ENSG00000273496 ENSG00000278384 ENSG00000273748  \\\n",
              "EN-fetal-late.4471             0.0             0.0             0.0   \n",
              "EN-fetal-late.124              0.0             0.0             0.0   \n",
              "EN-fetal-late.6068             0.0             0.0             0.0   \n",
              "EN-fetal-late.3900             0.0             0.0             0.0   \n",
              "EN-fetal-late.3926             0.0             0.0             0.0   \n",
              "\n",
              "Unnamed: 0         ENSG00000271254 ENSG00000276345 ENSG00000278817  \\\n",
              "EN-fetal-late.4471             0.0             0.0             0.0   \n",
              "EN-fetal-late.124              0.0             0.0             0.0   \n",
              "EN-fetal-late.6068             0.0             0.0             0.0   \n",
              "EN-fetal-late.3900             0.0             0.0             0.0   \n",
              "EN-fetal-late.3926             0.0             0.0             0.0   \n",
              "\n",
              "Unnamed: 0         ENSG00000277196     cell_types  \n",
              "EN-fetal-late.4471             0.0  EN-fetal-late  \n",
              "EN-fetal-late.124              0.0  EN-fetal-late  \n",
              "EN-fetal-late.6068             0.0  EN-fetal-late  \n",
              "EN-fetal-late.3900             0.0  EN-fetal-late  \n",
              "EN-fetal-late.3926             0.0  EN-fetal-late  \n",
              "\n",
              "[5 rows x 30114 columns]"
            ]
          },
          "execution_count": 6,
          "metadata": {},
          "output_type": "execute_result"
        }
      ],
      "source": [
        "# Cargar datos\n",
        "singlecell=pd.read_csv(\"C:/Users/Rocio/Desktop/singlecell_segmented.csv\", index_col=0, header=0) #Single Cell con 3,000 muestras celulares de 15 tipos celulares\n",
        "singlecell=singlecell.transpose()\n",
        "singlecell.head()"
      ]
    },
    {
      "cell_type": "code",
      "execution_count": 7,
      "metadata": {},
      "outputs": [],
      "source": [
        "# Separar la columna 'cell_types' de la matriz de expresión\n",
        "cell_types = singlecell['cell_types']  # Guardamos los tipos celulares\n",
        "singlecell = singlecell.drop(columns=['cell_types'])  # Quitamos la columna de la matriz "
      ]
    },
    {
      "cell_type": "code",
      "execution_count": 8,
      "metadata": {},
      "outputs": [],
      "source": [
        "# Separar la fila \"feature_name\" de la matriz de expresión\n",
        "feature_name = singlecell.loc['feature_name'].values\n",
        "singlecell = singlecell.drop(index=\"feature_name\")"
      ]
    },
    {
      "cell_type": "code",
      "execution_count": 9,
      "metadata": {},
      "outputs": [],
      "source": [
        "# Convertir valores de expresión a float\n",
        "singlecell = singlecell.astype(float)"
      ]
    },
    {
      "cell_type": "markdown",
      "metadata": {},
      "source": [
        "### 2.2.2- Visualización de Datos    "
      ]
    },
    {
      "cell_type": "markdown",
      "metadata": {},
      "source": [
        "### Uso de Scanpy para el preprocesamiento \n",
        "\n",
        "En el análisis de transcriptómica de células individuales (single-cell RNA sequencing, scRNA-seq), trabajamos con grandes volúmenes de datos altamente dimensionales. Para poder extraer información útil, es necesario aplicar técnicas de preprocesamiento, reducción de dimensionalidad, identificación de grupos celulares y visualización.\n",
        "\n",
        "Scanpy es una de las herramientas más eficientes y ampliamente utilizadas en Python para analizar datos de scRNA-seq. \n",
        "\n",
        "Pipeline:\n",
        "\n",
        " 1️⃣ Leer y organizar los datos de expresión \n",
        "\n",
        " 2️⃣ Filtrar células y genes con baja expresión\n",
        "\n",
        " 3️⃣ Normalizar y aplicar log-transform\n",
        "\n",
        " 4️⃣ Identificar genes más variables \n",
        "\n",
        " 5️⃣ Escalar datos de expresión \n",
        "\n",
        " 6️⃣ Construir representaciones de los datos con UMAP para visualizar los grupos celulares.\n",
        "\n",
        "\n",
        "En caso que posteriormente queramos usar R, Scanpy crea archivo compatibles con Seurat (R), para ellos construye un objeto AnnData que sigue el siguiente formato:"
      ]
    },
    {
      "cell_type": "markdown",
      "metadata": {},
      "source": [
        "<fig>\n",
        "<img    src=\"Edits/anndata_schema.svg\"\n",
        "        width=512\n",
        "        height=512>\n",
        "<figcaption>Fig. 2: Esquema de un objeto AnnData.\n",
        "</figure>"
      ]
    },
    {
      "cell_type": "code",
      "execution_count": 10,
      "metadata": {},
      "outputs": [
        {
          "name": "stdout",
          "output_type": "stream",
          "text": [
            "AnnData object with n_obs × n_vars = 3000 × 30113\n",
            "    obs: 'cell_types'\n",
            "    var: 'feature_name'\n"
          ]
        }
      ],
      "source": [
        "# Construir el objeto AnnData\n",
        "adata = anndata.AnnData(X=singlecell.values)\n",
        "\n",
        "# Asignar nombres correctos a filas y columnas\n",
        "adata.obs_names = singlecell.index  # Células\n",
        "adata.var_names = singlecell.columns  # Genes\n",
        "adata.obs[\"cell_types\"] = cell_types  # Agregar tipos celulares como metadatos\n",
        "adata.var[\"feature_name\"] = feature_name\n",
        "\n",
        "# Verificar estructura\n",
        "print(adata)"
      ]
    },
    {
      "cell_type": "code",
      "execution_count": 11,
      "metadata": {},
      "outputs": [
        {
          "data": {
            "text/plain": [
              "AnnData object with n_obs × n_vars = 3000 × 24862\n",
              "    obs: 'cell_types', 'n_genes'\n",
              "    var: 'feature_name', 'n_cells'"
            ]
          },
          "execution_count": 11,
          "metadata": {},
          "output_type": "execute_result"
        }
      ],
      "source": [
        "# Filtrar células y genes con baja expresión\n",
        "sc.pp.filter_cells(adata, min_genes=200)  # Células con al menos 200 genes detectados\n",
        "sc.pp.filter_genes(adata, min_cells=3)  # Genes expresados en al menos 3 células\n",
        "adata\n"
      ]
    },
    {
      "cell_type": "code",
      "execution_count": 12,
      "metadata": {},
      "outputs": [],
      "source": [
        "# Normalizar la expresión génica (CPM-like normalization)\n",
        "sc.pp.normalize_total(adata, target_sum=1e4)\n",
        "\n",
        "# Aplicar log-transformación\n",
        "sc.pp.log1p(adata)"
      ]
    },
    {
      "cell_type": "markdown",
      "metadata": {},
      "source": [
        "min_mean=0.0125 → Excluye genes con una expresión promedio muy baja, porque suelen ser ruido.\n",
        "\n",
        "max_mean=3 → Excluye genes con expresión excesivamente alta, que pueden ser housekeeping genes o artefactos.\n",
        "\n",
        "min_disp=0.5 → Selecciona genes con alta dispersión (variabilidad relativa), lo que significa que su expresión varía entre células y no es uniforme."
      ]
    },
    {
      "cell_type": "code",
      "execution_count": 13,
      "metadata": {},
      "outputs": [
        {
          "data": {
            "text/plain": [
              "View of AnnData object with n_obs × n_vars = 3000 × 6702\n",
              "    obs: 'cell_types', 'n_genes'\n",
              "    var: 'feature_name', 'n_cells', 'highly_variable', 'means', 'dispersions', 'dispersions_norm'\n",
              "    uns: 'log1p', 'hvg'"
            ]
          },
          "execution_count": 13,
          "metadata": {},
          "output_type": "execute_result"
        }
      ],
      "source": [
        "# Identificar los genes más variables\n",
        "sc.pp.highly_variable_genes(adata, min_mean=0.0125, max_mean=3, min_disp=0.5)\n",
        "adata = adata[:, adata.var[\"highly_variable\"]]  # Filtrar solo genes variables\n",
        "adata"
      ]
    },
    {
      "cell_type": "code",
      "execution_count": 14,
      "metadata": {},
      "outputs": [
        {
          "name": "stderr",
          "output_type": "stream",
          "text": [
            "C:\\Users\\Rocio\\AppData\\Local\\Packages\\PythonSoftwareFoundation.Python.3.10_qbz5n2kfra8p0\\LocalCache\\local-packages\\Python310\\site-packages\\scanpy\\preprocessing\\_scale.py:317: UserWarning: Received a view of an AnnData. Making a copy.\n",
            "  view_to_actual(adata)\n"
          ]
        }
      ],
      "source": [
        "sc.pp.scale(adata, max_value=10)"
      ]
    },
    {
      "cell_type": "code",
      "execution_count": 15,
      "metadata": {},
      "outputs": [
        {
          "name": "stderr",
          "output_type": "stream",
          "text": [
            "C:\\Users\\Rocio\\AppData\\Local\\Packages\\PythonSoftwareFoundation.Python.3.10_qbz5n2kfra8p0\\LocalCache\\local-packages\\Python310\\site-packages\\scanpy\\tools\\_utils.py:40: UserWarning: You’re trying to run this on 6702 dimensions of `.X`, if you really want this, set `use_rep='X'`.\n",
            "         Falling back to preprocessing with `sc.pp.pca` and default params.\n",
            "  warnings.warn(\n"
          ]
        },
        {
          "data": {
            "image/png": "[encoded data removed]",
            "text/plain": [
              "<Figure size 640x480 with 1 Axes>"
            ]
          },
          "metadata": {},
          "output_type": "display_data"
        }
      ],
      "source": [
        "sc.pp.neighbors(adata, n_neighbors=30, metric=\"euclidean\")\n",
        "sc.tl.umap(adata, min_dist=0.6)\n",
        "sc.pl.umap(adata, color=\"cell_types\")"
      ]
    },
    {
      "cell_type": "code",
      "execution_count": 16,
      "metadata": {},
      "outputs": [
        {
          "data": {
            "text/html": [
              "<div>\n",
              "<style scoped>\n",
              "    .dataframe tbody tr th:only-of-type {\n",
              "        vertical-align: middle;\n",
              "    }\n",
              "\n",
              "    .dataframe tbody tr th {\n",
              "        vertical-align: top;\n",
              "    }\n",
              "\n",
              "    .dataframe thead th {\n",
              "        text-align: right;\n",
              "    }\n",
              "</style>\n",
              "<table border=\"1\" class=\"dataframe\">\n",
              "  <thead>\n",
              "    <tr style=\"text-align: right;\">\n",
              "      <th></th>\n",
              "      <th>EN-fetal-late.4471</th>\n",
              "      <th>EN-fetal-late.124</th>\n",
              "      <th>EN-fetal-late.6068</th>\n",
              "      <th>EN-fetal-late.3900</th>\n",
              "      <th>EN-fetal-late.3926</th>\n",
              "      <th>EN-fetal-late.3207</th>\n",
              "      <th>EN-fetal-late.2617</th>\n",
              "      <th>EN-fetal-late.5009</th>\n",
              "      <th>EN-fetal-late.3474</th>\n",
              "      <th>EN-fetal-late.1939</th>\n",
              "      <th>...</th>\n",
              "      <th>Oligodendrocytes.4083</th>\n",
              "      <th>Oligodendrocytes.3485</th>\n",
              "      <th>Oligodendrocytes.268</th>\n",
              "      <th>Oligodendrocytes.5342</th>\n",
              "      <th>Oligodendrocytes.494</th>\n",
              "      <th>Oligodendrocytes.1645</th>\n",
              "      <th>Oligodendrocytes.1205</th>\n",
              "      <th>Oligodendrocytes.2811</th>\n",
              "      <th>Oligodendrocytes.3296</th>\n",
              "      <th>Oligodendrocytes.3546</th>\n",
              "    </tr>\n",
              "    <tr>\n",
              "      <th>feature_name</th>\n",
              "      <th></th>\n",
              "      <th></th>\n",
              "      <th></th>\n",
              "      <th></th>\n",
              "      <th></th>\n",
              "      <th></th>\n",
              "      <th></th>\n",
              "      <th></th>\n",
              "      <th></th>\n",
              "      <th></th>\n",
              "      <th></th>\n",
              "      <th></th>\n",
              "      <th></th>\n",
              "      <th></th>\n",
              "      <th></th>\n",
              "      <th></th>\n",
              "      <th></th>\n",
              "      <th></th>\n",
              "      <th></th>\n",
              "      <th></th>\n",
              "      <th></th>\n",
              "    </tr>\n",
              "  </thead>\n",
              "  <tbody>\n",
              "    <tr>\n",
              "      <th>RP11-34P13.7</th>\n",
              "      <td>-0.070011</td>\n",
              "      <td>-0.070011</td>\n",
              "      <td>-0.070011</td>\n",
              "      <td>-0.070011</td>\n",
              "      <td>-0.070011</td>\n",
              "      <td>-0.070011</td>\n",
              "      <td>-0.070011</td>\n",
              "      <td>-0.070011</td>\n",
              "      <td>-0.070011</td>\n",
              "      <td>-0.070011</td>\n",
              "      <td>...</td>\n",
              "      <td>-0.070011</td>\n",
              "      <td>-0.070011</td>\n",
              "      <td>-0.070011</td>\n",
              "      <td>-0.070011</td>\n",
              "      <td>-0.070011</td>\n",
              "      <td>-0.070011</td>\n",
              "      <td>-0.070011</td>\n",
              "      <td>-0.070011</td>\n",
              "      <td>-0.070011</td>\n",
              "      <td>-0.070011</td>\n",
              "    </tr>\n",
              "    <tr>\n",
              "      <th>RP11-54O7.16</th>\n",
              "      <td>-0.108235</td>\n",
              "      <td>-0.108235</td>\n",
              "      <td>-0.108235</td>\n",
              "      <td>-0.108235</td>\n",
              "      <td>-0.108235</td>\n",
              "      <td>-0.108235</td>\n",
              "      <td>-0.108235</td>\n",
              "      <td>-0.108235</td>\n",
              "      <td>-0.108235</td>\n",
              "      <td>-0.108235</td>\n",
              "      <td>...</td>\n",
              "      <td>-0.108235</td>\n",
              "      <td>-0.108235</td>\n",
              "      <td>-0.108235</td>\n",
              "      <td>-0.108235</td>\n",
              "      <td>-0.108235</td>\n",
              "      <td>-0.108235</td>\n",
              "      <td>-0.108235</td>\n",
              "      <td>-0.108235</td>\n",
              "      <td>-0.108235</td>\n",
              "      <td>-0.108235</td>\n",
              "    </tr>\n",
              "    <tr>\n",
              "      <th>RP11-54O7.17</th>\n",
              "      <td>-0.119912</td>\n",
              "      <td>-0.119912</td>\n",
              "      <td>-0.119912</td>\n",
              "      <td>-0.119912</td>\n",
              "      <td>-0.119912</td>\n",
              "      <td>-0.119912</td>\n",
              "      <td>-0.119912</td>\n",
              "      <td>-0.119912</td>\n",
              "      <td>-0.119912</td>\n",
              "      <td>-0.119912</td>\n",
              "      <td>...</td>\n",
              "      <td>-0.119912</td>\n",
              "      <td>-0.119912</td>\n",
              "      <td>-0.119912</td>\n",
              "      <td>-0.119912</td>\n",
              "      <td>-0.119912</td>\n",
              "      <td>-0.119912</td>\n",
              "      <td>-0.119912</td>\n",
              "      <td>-0.119912</td>\n",
              "      <td>-0.119912</td>\n",
              "      <td>-0.119912</td>\n",
              "    </tr>\n",
              "    <tr>\n",
              "      <th>HES4</th>\n",
              "      <td>-0.397298</td>\n",
              "      <td>2.010429</td>\n",
              "      <td>-0.397298</td>\n",
              "      <td>-0.397298</td>\n",
              "      <td>-0.397298</td>\n",
              "      <td>-0.397298</td>\n",
              "      <td>-0.397298</td>\n",
              "      <td>-0.397298</td>\n",
              "      <td>-0.397298</td>\n",
              "      <td>-0.397298</td>\n",
              "      <td>...</td>\n",
              "      <td>-0.397298</td>\n",
              "      <td>-0.397298</td>\n",
              "      <td>-0.397298</td>\n",
              "      <td>-0.397298</td>\n",
              "      <td>-0.397298</td>\n",
              "      <td>-0.397298</td>\n",
              "      <td>-0.397298</td>\n",
              "      <td>-0.397298</td>\n",
              "      <td>-0.397298</td>\n",
              "      <td>-0.397298</td>\n",
              "    </tr>\n",
              "    <tr>\n",
              "      <th>ISG15</th>\n",
              "      <td>-0.201108</td>\n",
              "      <td>-0.201108</td>\n",
              "      <td>-0.201108</td>\n",
              "      <td>-0.201108</td>\n",
              "      <td>-0.201108</td>\n",
              "      <td>-0.201108</td>\n",
              "      <td>-0.201108</td>\n",
              "      <td>-0.201108</td>\n",
              "      <td>-0.201108</td>\n",
              "      <td>-0.201108</td>\n",
              "      <td>...</td>\n",
              "      <td>-0.201108</td>\n",
              "      <td>-0.201108</td>\n",
              "      <td>-0.201108</td>\n",
              "      <td>-0.201108</td>\n",
              "      <td>-0.201108</td>\n",
              "      <td>-0.201108</td>\n",
              "      <td>-0.201108</td>\n",
              "      <td>-0.201108</td>\n",
              "      <td>-0.201108</td>\n",
              "      <td>-0.201108</td>\n",
              "    </tr>\n",
              "  </tbody>\n",
              "</table>\n",
              "<p>5 rows × 3000 columns</p>\n",
              "</div>"
            ],
            "text/plain": [
              "              EN-fetal-late.4471  EN-fetal-late.124  EN-fetal-late.6068  \\\n",
              "feature_name                                                              \n",
              "RP11-34P13.7           -0.070011          -0.070011           -0.070011   \n",
              "RP11-54O7.16           -0.108235          -0.108235           -0.108235   \n",
              "RP11-54O7.17           -0.119912          -0.119912           -0.119912   \n",
              "HES4                   -0.397298           2.010429           -0.397298   \n",
              "ISG15                  -0.201108          -0.201108           -0.201108   \n",
              "\n",
              "              EN-fetal-late.3900  EN-fetal-late.3926  EN-fetal-late.3207  \\\n",
              "feature_name                                                               \n",
              "RP11-34P13.7           -0.070011           -0.070011           -0.070011   \n",
              "RP11-54O7.16           -0.108235           -0.108235           -0.108235   \n",
              "RP11-54O7.17           -0.119912           -0.119912           -0.119912   \n",
              "HES4                   -0.397298           -0.397298           -0.397298   \n",
              "ISG15                  -0.201108           -0.201108           -0.201108   \n",
              "\n",
              "              EN-fetal-late.2617  EN-fetal-late.5009  EN-fetal-late.3474  \\\n",
              "feature_name                                                               \n",
              "RP11-34P13.7           -0.070011           -0.070011           -0.070011   \n",
              "RP11-54O7.16           -0.108235           -0.108235           -0.108235   \n",
              "RP11-54O7.17           -0.119912           -0.119912           -0.119912   \n",
              "HES4                   -0.397298           -0.397298           -0.397298   \n",
              "ISG15                  -0.201108           -0.201108           -0.201108   \n",
              "\n",
              "              EN-fetal-late.1939  ...  Oligodendrocytes.4083  \\\n",
              "feature_name                      ...                          \n",
              "RP11-34P13.7           -0.070011  ...              -0.070011   \n",
              "RP11-54O7.16           -0.108235  ...              -0.108235   \n",
              "RP11-54O7.17           -0.119912  ...              -0.119912   \n",
              "HES4                   -0.397298  ...              -0.397298   \n",
              "ISG15                  -0.201108  ...              -0.201108   \n",
              "\n",
              "              Oligodendrocytes.3485  Oligodendrocytes.268  \\\n",
              "feature_name                                                \n",
              "RP11-34P13.7              -0.070011             -0.070011   \n",
              "RP11-54O7.16              -0.108235             -0.108235   \n",
              "RP11-54O7.17              -0.119912             -0.119912   \n",
              "HES4                      -0.397298             -0.397298   \n",
              "ISG15                     -0.201108             -0.201108   \n",
              "\n",
              "              Oligodendrocytes.5342  Oligodendrocytes.494  \\\n",
              "feature_name                                                \n",
              "RP11-34P13.7              -0.070011             -0.070011   \n",
              "RP11-54O7.16              -0.108235             -0.108235   \n",
              "RP11-54O7.17              -0.119912             -0.119912   \n",
              "HES4                      -0.397298             -0.397298   \n",
              "ISG15                     -0.201108             -0.201108   \n",
              "\n",
              "              Oligodendrocytes.1645  Oligodendrocytes.1205  \\\n",
              "feature_name                                                 \n",
              "RP11-34P13.7              -0.070011              -0.070011   \n",
              "RP11-54O7.16              -0.108235              -0.108235   \n",
              "RP11-54O7.17              -0.119912              -0.119912   \n",
              "HES4                      -0.397298              -0.397298   \n",
              "ISG15                     -0.201108              -0.201108   \n",
              "\n",
              "              Oligodendrocytes.2811  Oligodendrocytes.3296  \\\n",
              "feature_name                                                 \n",
              "RP11-34P13.7              -0.070011              -0.070011   \n",
              "RP11-54O7.16              -0.108235              -0.108235   \n",
              "RP11-54O7.17              -0.119912              -0.119912   \n",
              "HES4                      -0.397298              -0.397298   \n",
              "ISG15                     -0.201108              -0.201108   \n",
              "\n",
              "              Oligodendrocytes.3546  \n",
              "feature_name                         \n",
              "RP11-34P13.7              -0.070011  \n",
              "RP11-54O7.16              -0.108235  \n",
              "RP11-54O7.17              -0.119912  \n",
              "HES4                      -0.397298  \n",
              "ISG15                     -0.201108  \n",
              "\n",
              "[5 rows x 3000 columns]"
            ]
          },
          "execution_count": 16,
          "metadata": {},
          "output_type": "execute_result"
        }
      ],
      "source": [
        "# Extraer la matriz de expresión desde adata.X y convertirla en DataFrame\n",
        "df_expression = pd.DataFrame(\n",
        "    adata.X.T,  # Transponemos para que los genes sean filas y las células columnas\n",
        "    index=adata.var[\"feature_name\"],  # Nombres de los genes como filas\n",
        "    columns=adata.obs_names  # Nombres de las células como columnas\n",
        ")\n",
        "df_expression.head()"
      ]
    },
    {
      "cell_type": "code",
      "execution_count": null,
      "metadata": {},
      "outputs": [],
      "source": [
        "df_expression.to_csv(\"C:/Users/Rocio/Desktop/matriz_expresion_preprocesada.txt\", sep=\"\\t\", index=True, header=True)"
      ]
    },
    {
      "cell_type": "code",
      "execution_count": null,
      "metadata": {},
      "outputs": [],
      "source": [
        "# Guardar como un .h5ad para después convertirlo en .rds en R (opcional)\n",
        "adata.write(\"C:/Users/Rocio/Desktop/matriz_expresion_preprocesada.h5ad\")"
      ]
    },
    {
      "cell_type": "markdown",
      "metadata": {},
      "source": [
        "## 2.3 RNA-seq"
      ]
    },
    {
      "cell_type": "markdown",
      "metadata": {},
      "source": [
        "### Librerias"
      ]
    },
    {
      "cell_type": "code",
      "execution_count": null,
      "metadata": {
        "id": "luvriTOMbfr6"
      },
      "outputs": [],
      "source": [
        "import pandas as pd # manipulación de datos\n",
        "import matplotlib.pyplot as plt # Graficación\n",
        "import time # Medición de tiempo\n",
        "import numpy as np # Matematicas"
      ]
    },
    {
      "cell_type": "markdown",
      "metadata": {},
      "source": [
        "### Lectura de datos"
      ]
    },
    {
      "cell_type": "code",
      "execution_count": null,
      "metadata": {
        "colab": {
          "base_uri": "https://localhost:8080/",
          "height": 497
        },
        "id": "HDNBHOFMpuEM",
        "outputId": "6f4480fd-e931-427b-aa36-36fda85af44d"
      },
      "outputs": [],
      "source": [
        "singlecell=pd.read_csv(\"/content/drive/MyDrive/Curso de Marzo/SingleCell.csv\", header=None) #Single Cell con 3,500 muestras celulares de 15 tipos celulares\n",
        "singlecell=singlecell.transpose()\n",
        "\n",
        "singlecell # Mostrar los datos en forma de tabla"
      ]
    },
    {
      "cell_type": "markdown",
      "metadata": {
        "id": "5EqVXG_Wbb24"
      },
      "source": [
        "### Procesamiento de datos RNA-seq"
      ]
    },
    {
      "cell_type": "code",
      "execution_count": null,
      "metadata": {
        "colab": {
          "base_uri": "https://localhost:8080/",
          "height": 517
        },
        "id": "gJAKkGb6bkOz",
        "outputId": "1b470a7a-c07d-40e0-b7b2-fc0456eea898"
      },
      "outputs": [],
      "source": [
        "# Carga de datos\n",
        "rnaseq=pd.read_csv(\"/content/drive/MyDrive/Curso de Marzo/RNA-seq.csv\") # Dirección en la que se encuentra el archivo RNA-seq\n",
        "print(\"Base de datos \\n\")\n",
        "\n",
        "rnaseq = rnaseq.rename({'gene_symbol': 'Brain Samples', 'b': 'Y'}, axis=1) # Cambiamos de nombre una columna\n",
        "rnaseq.head() # Mostrar los datos en forma de tabla solo los primeros 5 elementos\n"
      ]
    },
    {
      "cell_type": "markdown",
      "metadata": {},
      "source": [
        "### Filtrado de datos"
      ]
    },
    {
      "cell_type": "code",
      "execution_count": null,
      "metadata": {
        "colab": {
          "base_uri": "https://localhost:8080/"
        },
        "id": "5YP3t7FobucL",
        "outputId": "706491e2-178d-4e79-d10f-ec1201b2ebd8"
      },
      "outputs": [],
      "source": [
        "ages = [\"11 yrs\", \"40 yrs\"] #Edades en las que quieres inferir la proporción celular\n",
        "\n",
        "\n",
        "# Filtara el DF\n",
        "filtered_df = rnaseq[rnaseq[\"Age\"].isin(ages)]\n",
        "\n",
        "# Eliminar columna de edad\n",
        "filtered_df=filtered_df.drop(\"Age\", axis=1)\n",
        "\n",
        "# Mostrar los resultados\n",
        "filtered_df=filtered_df.set_index([\"Brain Samples\"])\n",
        "print(\"Base de datos con Indice\\n\")\n",
        "\n",
        "filtered_df.head()\n",
        "\n",
        "# Define the Google Drive path\n",
        "save_path = \"/content/drive/MyDrive/Curso de Marzo/\"\n",
        "\n",
        "#Exportar los datos a un archivo tipo csv\n",
        "filtered_df.to_csv(save_path+\"filtered_df.csv\")"
      ]
    },
    {
      "cell_type": "markdown",
      "metadata": {},
      "source": [
        "### Guardar datos en formato txt"
      ]
    },
    {
      "cell_type": "code",
      "execution_count": null,
      "metadata": {
        "colab": {
          "base_uri": "https://localhost:8080/"
        },
        "id": "uC92ngHocM57",
        "outputId": "86b445d1-d786-4efa-b4ef-7349c179c088"
      },
      "outputs": [],
      "source": [
        "# Carga de datos previamente segmentados\n",
        "rnaseq=pd.read_csv(save_path+\"filtered_df.csv\", header=None)\n",
        "print(\"Base de datos \\n\")\n",
        "rnaseq=rnaseq.transpose()\n",
        "# Save the file\n",
        "np.savetxt(save_path+\"Brain_Bulk.txt\", rnaseq, fmt='%s', delimiter='\\t')"
      ]
    },
    {
      "cell_type": "markdown",
      "metadata": {},
      "source": [
        "### Vizialización de datos segmentados finales"
      ]
    },
    {
      "cell_type": "code",
      "execution_count": null,
      "metadata": {
        "colab": {
          "base_uri": "https://localhost:8080/",
          "height": 650
        },
        "id": "_Nz10GQpnwBW",
        "outputId": "14613dc8-468e-46ba-e8a2-93dda4a52b61"
      },
      "outputs": [
        {
          "name": "stdout",
          "output_type": "stream",
          "text": [
            "Hola\n"
          ]
        }
      ],
      "source": [
        "rnaseq=pd.read_csv(save_path+\"Brain_Bulk.txt\", header=None, delimiter=\"\\t\", index_col=0)\n",
        "rnaseq"
      ]
    },
    {
      "cell_type": "markdown",
      "metadata": {},
      "source": [
        "# 3- CIBERSORTx 📊"
      ]
    },
    {
      "cell_type": "markdown",
      "metadata": {},
      "source": [
        "<fig>\n",
        "<img    src=\"Edits/Methodology.png\"\n",
        "        width=400\n",
        "        height=400>\n",
        "<figcaption>Fig. 1: Graphical abstract de la metodología.\n",
        "</figure>"
      ]
    },
    {
      "cell_type": "markdown",
      "metadata": {
        "id": "qAopxgDgczze"
      },
      "source": [
        "### Link a CIBERSORTx: https://cibersortx.stanford.edu/\n",
        "\n",
        "Pasos a seguir\n",
        "\n",
        "\n",
        "1.   Crear cuenta\n",
        "2.   Iniciar sesíon\n"
      ]
    },
    {
      "cell_type": "markdown",
      "metadata": {},
      "source": [
        "### 3.1- Firmas genéticas"
      ]
    },
    {
      "cell_type": "markdown",
      "metadata": {},
      "source": [
        "<fig>\n",
        "<img    src=\"Edits/Firmas.png\"\n",
        "        width=800\n",
        "        height=600>\n",
        "<figcaption>Fig. 1: Interfaz de CIBERSORTx.\n",
        "</figure>"
      ]
    },
    {
      "cell_type": "markdown",
      "metadata": {},
      "source": [
        "## 3.2- Inferencia Celular"
      ]
    },
    {
      "cell_type": "markdown",
      "metadata": {},
      "source": [
        "<fig>\n",
        "<img    src=\"Edits/Proporcion.png\"\n",
        "        width=800\n",
        "        height=600>\n",
        "<figcaption>Fig. 1: Interfaz de CIBERSORTx.\n",
        "</figure>"
      ]
    },
    {
      "cell_type": "markdown",
      "metadata": {},
      "source": [
        "# 4- hdWGCNA"
      ]
    },
    {
      "cell_type": "markdown",
      "metadata": {},
      "source": [
        "\n",
        "hdWGCNA es una herramienta bioinformática que permite analizar redes de coexpresión génica en estudios de transcriptómica que nos permite:\n",
        "\n",
        "- Identificar grupos de genes que trabajan juntos en diferentes condiciones, como en enfermedades o en respuesta a fármacos\n",
        "\n",
        "- Encontrar biomarcadores y posibles dianas terapéuticas analizando qué genes están más conectados en una red\n",
        "\n",
        "- Comprender cómo un fármaco afecta la expresión génica y predecir posibles efectos adversos\n",
        "\n",
        "- Estudiar enfermedades complejas como el cáncer o trastornos neurológicos a nivel molecular"
      ]
    },
    {
      "cell_type": "markdown",
      "metadata": {},
      "source": [
        "### 4.1- hdWGCNA 🕸️"
      ]
    },
    {
      "cell_type": "markdown",
      "metadata": {},
      "source": [
        "\n",
        "hdWGCNA es una herramienta bioinformática que permite analizar redes de coexpresión génica en estudios de transcriptómica que nos permite:\n",
        "\n",
        "- Identificar grupos de genes que trabajan juntos en diferentes condiciones, como en enfermedades o en respuesta a fármacos\n",
        "\n",
        "- Encontrar biomarcadores y posibles dianas terapéuticas analizando qué genes están más conectados en una red\n",
        "\n",
        "- Comprender cómo un fármaco afecta la expresión génica y predecir posibles efectos adversos\n",
        "\n",
        "- Estudiar enfermedades complejas como el cáncer o trastornos neurológicos a nivel molecular"
      ]
    },
    {
      "cell_type": "markdown",
      "metadata": {},
      "source": [
        "# **Sección 5: Ciencia de Datos** 🧬💻"
      ]
    },
    {
      "cell_type": "markdown",
      "metadata": {
        "id": "K89uxZNUdVnh"
      },
      "source": [
        "## 5.1- Interpretación de Resultados\n",
        "\n",
        "\n",
        "La interpretación de resultados en biología computacional es el proceso de traducir datos numéricos o estadísticos en conocimiento biológicamente relevante, vinculándolos con mecanismos celulares, enfermedades o aplicaciones farmacéuticas. Se realiza en varias etapas:\n",
        "\n",
        "> Validación técnica:\n",
        "\n",
        "Confirmar que los resultados son robustos (ej.: repetir análisis con distintos parámetros o subconjuntos de datos).\n",
        "\n",
        "\n",
        "> Contextualización biológica:\n",
        "\n",
        "Relacionar genes, proteínas o vías identificadas con funciones conocidas usando bases de datos como KEGG, GO o Reactome.\n",
        "\n",
        "> Integración con literatura:\n",
        "\n",
        "Comparar resultados con estudios previos\n",
        "\n",
        "> Herramientas de apoyo:\n",
        "\n",
        "**Anotación funcional:** DAVID, Enrichr para identificar vías enriquecidas.\n",
        "\n",
        "**Redes biológicas:** Cytoscape para visualizar interacciones entre genes/proteínas descubiertos.\n",
        "\n",
        "**Plataformas farmacológicas:** DrugBank para cruzar dianas identificadas con fármacos existentes.\n",
        "\n",
        "> Traducción a aplicaciones prácticas:\n",
        "\n",
        "Generar hipótesis experimentales\n",
        "\n",
        "\n",
        "\n",
        "\n",
        "*Siempre pregúntense: ¿Qué significa esto para la enfermedad o el fármaco que estudio?*"
      ]
    }
  ],
  "metadata": {
    "colab": {
      "provenance": []
    },
    "kernelspec": {
      "display_name": "Python 3",
      "name": "python3"
    },
    "language_info": {
      "codemirror_mode": {
        "name": "ipython",
        "version": 3
      },
      "file_extension": ".py",
      "mimetype": "text/x-python",
      "name": "python",
      "nbconvert_exporter": "python",
      "pygments_lexer": "ipython3",
      "version": "3.9.5"
    }
  },
  "nbformat": 4,
  "nbformat_minor": 0
}
