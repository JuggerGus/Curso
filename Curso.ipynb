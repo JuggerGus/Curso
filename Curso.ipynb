{
  "cells": [
    {
      "cell_type": "markdown",
      "metadata": {
        "id": "LJ10fWAadouc"
      },
      "source": [
        "##Conexión de Google Drive"
      ]
    },
    {
      "cell_type": "code",
      "execution_count": null,
      "metadata": {
        "colab": {
          "base_uri": "https://localhost:8080/"
        },
        "id": "NqNM4o4-Hugw",
        "outputId": "01b0dcfe-9924-4256-aacf-3f01d34e695f"
      },
      "outputs": [],
      "source": [
        "from google.colab import drive\n",
        "drive.mount('/content/drive')"
      ]
    },
    {
      "cell_type": "markdown",
      "metadata": {
        "id": "ql1UwsZeHBlv"
      },
      "source": [
        "# Sección 1 Origen de los datos"
      ]
    },
    {
      "cell_type": "markdown",
      "metadata": {
        "id": "iMGaRwQe8mI0"
      },
      "source": [
        "## **Introducción**\n",
        "\n",
        "En un proyecto determinado, la aplicación de estrategias de cómputo depende de la **información disponible del sistema (DATOS)** y de los **objetivos** específicos del estudio.\n",
        "\n",
        "El laboratorio humedo es el primer acercamiento que tenemos a la generación de datos, mejor conocidos como: **Datos Crudos**. \n",
        "\n",
        "\n",
        "---\n",
        "Datos Crudos: Registros originales tal como se recopilaron en el laboratorio sin ningún procesamiento, filtrado o interpretación.\n",
        "\n",
        "---\n",
        "\n",
        "Como QFB, trabajan con muestras complejas como:\n",
        "\n",
        "> *   🩸 Sangre/plasma (biomarcadores)\n",
        "> *   🔬 Tejidos (biopsias)\n",
        "> *   🧫 Cultivos celulares (hepatocitos, líneas cancerosas)\n",
        "> *   🦠 Aislamientos microbianos (resistencia antimicrobiana)\n",
        "\n",
        "\n",
        "Después de generar los datos, estos pasan a la computadora para proceder a su manejo y adaptarlas acorde a las herramientas de uso.\n",
        "\n",
        "Las herramientas a utilizar es seleccionada basada a la pregunta del proyecto **¿Que me interesa conocer de mis datos?** \n",
        "\n",
        "\n",
        "# Beneficios:\n",
        "\n",
        "\n",
        "1.   Reducción de costo y tiempo de investigación \n",
        "\n",
        "2.   Análisis y procesamiento de grandes volúmenes de datos\n",
        "\n",
        "3.   Análisis de datos Omicos\n",
        "\n",
        "4.   Optimización de ensayos experimentales\n",
        "\n",
        "5.   Personalización de tratamientos  \n"
      ]
    },
    {
      "cell_type": "markdown",
      "metadata": {
        "id": "LWcVB8GoHApU"
      },
      "source": [
        "# Sección 2 Bioinformática\n",
        "\n"
      ]
    },
    {
      "cell_type": "markdown",
      "metadata": {},
      "source": [
        "<fig>\n",
        "<img    src=\"Edits/Curso.png\"\n",
        "        width=800\n",
        "        height=800>\n",
        "<figcaption>Fig. 1: Graphical abstract de la metodología.\n",
        "</figure>"
      ]
    },
    {
      "cell_type": "markdown",
      "metadata": {
        "id": "SP3isrDycV6Q"
      },
      "source": [
        "## Procesamiento de datos scRNA-seq"
      ]
    },
    {
      "cell_type": "code",
      "execution_count": null,
      "metadata": {
        "id": "luvriTOMbfr6"
      },
      "outputs": [],
      "source": [
        "# Librerias\n",
        "\n",
        "import pandas as pd\n",
        "import matplotlib.pyplot as plt\n",
        "import time\n",
        "import numpy as np"
      ]
    },
    {
      "cell_type": "code",
      "execution_count": null,
      "metadata": {
        "colab": {
          "base_uri": "https://localhost:8080/",
          "height": 497
        },
        "id": "HDNBHOFMpuEM",
        "outputId": "6f4480fd-e931-427b-aa36-36fda85af44d"
      },
      "outputs": [],
      "source": [
        "singlecell=pd.read_csv(\"/content/drive/MyDrive/Curso de Marzo/SingleCell.csv\", header=None) #Single Cell con 3,500 muestras celulares de 15 tipos celulares\n",
        "singlecell=singlecell.transpose()\n",
        "singlecell"
      ]
    },
    {
      "cell_type": "markdown",
      "metadata": {
        "id": "5EqVXG_Wbb24"
      },
      "source": [
        "##Procesamiento de datos RNA-seq"
      ]
    },
    {
      "cell_type": "code",
      "execution_count": null,
      "metadata": {
        "colab": {
          "base_uri": "https://localhost:8080/",
          "height": 517
        },
        "id": "gJAKkGb6bkOz",
        "outputId": "1b470a7a-c07d-40e0-b7b2-fc0456eea898"
      },
      "outputs": [],
      "source": [
        "# Carga de datos\n",
        "\n",
        "rnaseq=pd.read_csv(\"/content/drive/MyDrive/Curso de Marzo/RNA-seq.csv\") # Dirección en la que se encuentra el archivo\n",
        "print(\"Base de datos \\n\")\n",
        "rnaseq = rnaseq.rename({'gene_symbol': 'Brain Samples', 'b': 'Y'}, axis=1)\n",
        "rnaseq.head()\n"
      ]
    },
    {
      "cell_type": "code",
      "execution_count": null,
      "metadata": {
        "colab": {
          "base_uri": "https://localhost:8080/"
        },
        "id": "5YP3t7FobucL",
        "outputId": "706491e2-178d-4e79-d10f-ec1201b2ebd8"
      },
      "outputs": [],
      "source": [
        "ages = [\"11 yrs\", \"40 yrs\"] #Edades en las que quieres inferir la proporción celular\n",
        "\n",
        "\n",
        "# Filtara el DF\n",
        "filtered_df = rnaseq[rnaseq[\"Age\"].isin(ages)]\n",
        "\n",
        "# Eliminar columna de edad\n",
        "filtered_df=filtered_df.drop(\"Age\", axis=1)\n",
        "\n",
        "# Mostrar los resultados\n",
        "filtered_df=filtered_df.set_index([\"Brain Samples\"])\n",
        "print(\"Base de datos con Indice\\n\")\n",
        "\n",
        "filtered_df.head()\n",
        "\n",
        "# Define the Google Drive path\n",
        "save_path = \"/content/drive/MyDrive/Curso de Marzo/\"\n",
        "\n",
        "#Exportar los datos a un archivo tipo csv\n",
        "filtered_df.to_csv(save_path+\"filtered_df.csv\")"
      ]
    },
    {
      "cell_type": "code",
      "execution_count": null,
      "metadata": {
        "colab": {
          "base_uri": "https://localhost:8080/"
        },
        "id": "uC92ngHocM57",
        "outputId": "86b445d1-d786-4efa-b4ef-7349c179c088"
      },
      "outputs": [],
      "source": [
        "# Carga de datos previamente segmentados\n",
        "rnaseq=pd.read_csv(save_path+\"filtered_df.csv\", header=None)\n",
        "print(\"Base de datos \\n\")\n",
        "rnaseq=rnaseq.transpose()\n",
        "# Save the file\n",
        "np.savetxt(save_path+\"Brain_Bulk.txt\", rnaseq, fmt='%s', delimiter='\\t')"
      ]
    },
    {
      "cell_type": "code",
      "execution_count": null,
      "metadata": {
        "colab": {
          "base_uri": "https://localhost:8080/",
          "height": 650
        },
        "id": "_Nz10GQpnwBW",
        "outputId": "14613dc8-468e-46ba-e8a2-93dda4a52b61"
      },
      "outputs": [],
      "source": [
        "rnaseq=pd.read_csv(save_path+\"Brain_Bulk.txt\", header=None, delimiter=\"\\t\", index_col=0)\n",
        "rnaseq"
      ]
    },
    {
      "cell_type": "markdown",
      "metadata": {
        "id": "2GuHNZwgcrEp"
      },
      "source": [
        "#CIBERSORTx"
      ]
    },
    {
      "cell_type": "markdown",
      "metadata": {
        "id": "qAopxgDgczze"
      },
      "source": [
        "Link a CIBERSORTx: https://cibersortx.stanford.edu/\n",
        "\n",
        "Pasos a seguir\n",
        "\n",
        "\n",
        "1.   Crear cuenta\n",
        "2.   Iniciar sesíon\n"
      ]
    },
    {
      "cell_type": "markdown",
      "metadata": {},
      "source": [
        "##hdWGCNA"
      ]
    },
    {
      "cell_type": "markdown",
      "metadata": {},
      "source": [
        "\n",
        "hdWGCNA es una herramienta bioinformática que permite analizar redes de coexpresión génica en estudios de transcriptómica que nos permite:\n",
        "\n",
        "- Identificar grupos de genes que trabajan juntos en diferentes condiciones, como en enfermedades o en respuesta a fármacos\n",
        "\n",
        "- Encontrar biomarcadores y posibles dianas terapéuticas analizando qué genes están más conectados en una red\n",
        "\n",
        "- Comprender cómo un fármaco afecta la expresión génica y predecir posibles efectos adversos\n",
        "\n",
        "- Estudiar enfermedades complejas como el cáncer o trastornos neurológicos a nivel molecular"
      ]
    },
    {
      "cell_type": "markdown",
      "metadata": {},
      "source": [
        "# Sección 2: Origen de los datos\n",
        "\n",
        "Este es el origen de los datos blah blah blah"
      ]
    },
    {
      "cell_type": "code",
      "execution_count": null,
      "metadata": {
        "id": "NSW2uqiGczmd"
      },
      "outputs": [],
      "source": [
        "# Aqui va algo de texto\n",
        "def imprimir_valor(valor):\n",
        "    print(valor)"
      ]
    },
    {
      "cell_type": "code",
      "execution_count": null,
      "metadata": {},
      "outputs": [],
      "source": [
        "imprimir_valor(4)"
      ]
    },
    {
      "cell_type": "markdown",
      "metadata": {
        "id": "K89uxZNUdVnh"
      },
      "source": [
        "##hdWGCNA"
      ]
    },
    {
      "cell_type": "markdown",
      "metadata": {
        "id": "_pVclKZodbrU"
      },
      "source": [
        "#Sección 3 Ciencia de datos"
      ]
    },
    {
      "cell_type": "code",
      "execution_count": null,
      "metadata": {
        "id": "X33mJuzvdbP-"
      },
      "outputs": [],
      "source": []
    }
  ],
  "metadata": {
    "colab": {
      "provenance": []
    },
    "kernelspec": {
      "display_name": "Python 3",
      "name": "python3"
    },
    "language_info": {
      "codemirror_mode": {
        "name": "ipython",
        "version": 3
      },
      "file_extension": ".py",
      "mimetype": "text/x-python",
      "name": "python",
      "nbconvert_exporter": "python",
      "pygments_lexer": "ipython3",
      "version": "3.10.11"
    }
  },
  "nbformat": 4,
  "nbformat_minor": 0
}
